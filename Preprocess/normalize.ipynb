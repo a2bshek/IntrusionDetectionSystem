{
 "cells": [
  {
   "cell_type": "code",
   "execution_count": 1,
   "metadata": {},
   "outputs": [],
   "source": [
    "import pandas as pd\n",
    "import numpy "
   ]
  },
  {
   "cell_type": "code",
   "execution_count": 2,
   "metadata": {},
   "outputs": [],
   "source": [
    "df = pd.read_csv(\"./final.csv\")"
   ]
  },
  {
   "cell_type": "code",
   "execution_count": 3,
   "metadata": {},
   "outputs": [
    {
     "data": {
      "text/html": [
       "<div>\n",
       "<style scoped>\n",
       "    .dataframe tbody tr th:only-of-type {\n",
       "        vertical-align: middle;\n",
       "    }\n",
       "\n",
       "    .dataframe tbody tr th {\n",
       "        vertical-align: top;\n",
       "    }\n",
       "\n",
       "    .dataframe thead th {\n",
       "        text-align: right;\n",
       "    }\n",
       "</style>\n",
       "<table border=\"1\" class=\"dataframe\">\n",
       "  <thead>\n",
       "    <tr style=\"text-align: right;\">\n",
       "      <th></th>\n",
       "      <th>duration</th>\n",
       "      <th>protocol_type</th>\n",
       "      <th>flag</th>\n",
       "      <th>src_bytes</th>\n",
       "      <th>dst_bytes</th>\n",
       "      <th>land</th>\n",
       "      <th>wrong_fragment</th>\n",
       "      <th>urgent</th>\n",
       "      <th>hot</th>\n",
       "      <th>num_failed_logins</th>\n",
       "      <th>...</th>\n",
       "      <th>same_srv_rate</th>\n",
       "      <th>diff_srv_rate</th>\n",
       "      <th>srv_diff_host_rate</th>\n",
       "      <th>dst_host_count</th>\n",
       "      <th>dst_host_srv_count</th>\n",
       "      <th>dst_host_diff_srv_rate</th>\n",
       "      <th>dst_host_same_src_port_rate</th>\n",
       "      <th>dst_host_srv_diff_host_rate</th>\n",
       "      <th>target</th>\n",
       "      <th>Attack Type</th>\n",
       "    </tr>\n",
       "  </thead>\n",
       "  <tbody>\n",
       "    <tr>\n",
       "      <th>0</th>\n",
       "      <td>0</td>\n",
       "      <td>1</td>\n",
       "      <td>0</td>\n",
       "      <td>215</td>\n",
       "      <td>45076</td>\n",
       "      <td>0</td>\n",
       "      <td>0</td>\n",
       "      <td>0</td>\n",
       "      <td>0</td>\n",
       "      <td>0</td>\n",
       "      <td>...</td>\n",
       "      <td>1.0</td>\n",
       "      <td>0.0</td>\n",
       "      <td>0.0</td>\n",
       "      <td>0</td>\n",
       "      <td>0</td>\n",
       "      <td>0.0</td>\n",
       "      <td>0.00</td>\n",
       "      <td>0.0</td>\n",
       "      <td>normal.</td>\n",
       "      <td>normal</td>\n",
       "    </tr>\n",
       "    <tr>\n",
       "      <th>1</th>\n",
       "      <td>0</td>\n",
       "      <td>1</td>\n",
       "      <td>0</td>\n",
       "      <td>162</td>\n",
       "      <td>4528</td>\n",
       "      <td>0</td>\n",
       "      <td>0</td>\n",
       "      <td>0</td>\n",
       "      <td>0</td>\n",
       "      <td>0</td>\n",
       "      <td>...</td>\n",
       "      <td>1.0</td>\n",
       "      <td>0.0</td>\n",
       "      <td>0.0</td>\n",
       "      <td>1</td>\n",
       "      <td>1</td>\n",
       "      <td>0.0</td>\n",
       "      <td>1.00</td>\n",
       "      <td>0.0</td>\n",
       "      <td>normal.</td>\n",
       "      <td>normal</td>\n",
       "    </tr>\n",
       "    <tr>\n",
       "      <th>2</th>\n",
       "      <td>0</td>\n",
       "      <td>1</td>\n",
       "      <td>0</td>\n",
       "      <td>236</td>\n",
       "      <td>1228</td>\n",
       "      <td>0</td>\n",
       "      <td>0</td>\n",
       "      <td>0</td>\n",
       "      <td>0</td>\n",
       "      <td>0</td>\n",
       "      <td>...</td>\n",
       "      <td>1.0</td>\n",
       "      <td>0.0</td>\n",
       "      <td>0.0</td>\n",
       "      <td>2</td>\n",
       "      <td>2</td>\n",
       "      <td>0.0</td>\n",
       "      <td>0.50</td>\n",
       "      <td>0.0</td>\n",
       "      <td>normal.</td>\n",
       "      <td>normal</td>\n",
       "    </tr>\n",
       "    <tr>\n",
       "      <th>3</th>\n",
       "      <td>0</td>\n",
       "      <td>1</td>\n",
       "      <td>0</td>\n",
       "      <td>233</td>\n",
       "      <td>2032</td>\n",
       "      <td>0</td>\n",
       "      <td>0</td>\n",
       "      <td>0</td>\n",
       "      <td>0</td>\n",
       "      <td>0</td>\n",
       "      <td>...</td>\n",
       "      <td>1.0</td>\n",
       "      <td>0.0</td>\n",
       "      <td>0.0</td>\n",
       "      <td>3</td>\n",
       "      <td>3</td>\n",
       "      <td>0.0</td>\n",
       "      <td>0.33</td>\n",
       "      <td>0.0</td>\n",
       "      <td>normal.</td>\n",
       "      <td>normal</td>\n",
       "    </tr>\n",
       "    <tr>\n",
       "      <th>4</th>\n",
       "      <td>0</td>\n",
       "      <td>1</td>\n",
       "      <td>0</td>\n",
       "      <td>239</td>\n",
       "      <td>486</td>\n",
       "      <td>0</td>\n",
       "      <td>0</td>\n",
       "      <td>0</td>\n",
       "      <td>0</td>\n",
       "      <td>0</td>\n",
       "      <td>...</td>\n",
       "      <td>1.0</td>\n",
       "      <td>0.0</td>\n",
       "      <td>0.0</td>\n",
       "      <td>4</td>\n",
       "      <td>4</td>\n",
       "      <td>0.0</td>\n",
       "      <td>0.25</td>\n",
       "      <td>0.0</td>\n",
       "      <td>normal.</td>\n",
       "      <td>normal</td>\n",
       "    </tr>\n",
       "  </tbody>\n",
       "</table>\n",
       "<p>5 rows × 33 columns</p>\n",
       "</div>"
      ],
      "text/plain": [
       "   duration  protocol_type  flag  src_bytes  dst_bytes  land  wrong_fragment  \\\n",
       "0         0              1     0        215      45076     0               0   \n",
       "1         0              1     0        162       4528     0               0   \n",
       "2         0              1     0        236       1228     0               0   \n",
       "3         0              1     0        233       2032     0               0   \n",
       "4         0              1     0        239        486     0               0   \n",
       "\n",
       "   urgent  hot  num_failed_logins  ...  same_srv_rate  diff_srv_rate  \\\n",
       "0       0    0                  0  ...            1.0            0.0   \n",
       "1       0    0                  0  ...            1.0            0.0   \n",
       "2       0    0                  0  ...            1.0            0.0   \n",
       "3       0    0                  0  ...            1.0            0.0   \n",
       "4       0    0                  0  ...            1.0            0.0   \n",
       "\n",
       "   srv_diff_host_rate  dst_host_count  dst_host_srv_count  \\\n",
       "0                 0.0               0                   0   \n",
       "1                 0.0               1                   1   \n",
       "2                 0.0               2                   2   \n",
       "3                 0.0               3                   3   \n",
       "4                 0.0               4                   4   \n",
       "\n",
       "   dst_host_diff_srv_rate  dst_host_same_src_port_rate  \\\n",
       "0                     0.0                         0.00   \n",
       "1                     0.0                         1.00   \n",
       "2                     0.0                         0.50   \n",
       "3                     0.0                         0.33   \n",
       "4                     0.0                         0.25   \n",
       "\n",
       "   dst_host_srv_diff_host_rate   target  Attack Type  \n",
       "0                          0.0  normal.       normal  \n",
       "1                          0.0  normal.       normal  \n",
       "2                          0.0  normal.       normal  \n",
       "3                          0.0  normal.       normal  \n",
       "4                          0.0  normal.       normal  \n",
       "\n",
       "[5 rows x 33 columns]"
      ]
     },
     "execution_count": 3,
     "metadata": {},
     "output_type": "execute_result"
    }
   ],
   "source": [
    "df.head()"
   ]
  },
  {
   "cell_type": "code",
   "execution_count": 4,
   "metadata": {},
   "outputs": [
    {
     "data": {
      "text/plain": [
       "(1048575, 33)"
      ]
     },
     "execution_count": 4,
     "metadata": {},
     "output_type": "execute_result"
    }
   ],
   "source": [
    "df.shape"
   ]
  },
  {
   "cell_type": "code",
   "execution_count": 5,
   "metadata": {},
   "outputs": [],
   "source": [
    "df = df.loc[:, ~df.columns.str.contains('^Unnamed')]"
   ]
  },
  {
   "cell_type": "code",
   "execution_count": 6,
   "metadata": {},
   "outputs": [
    {
     "data": {
      "text/plain": [
       "duration                         int64\n",
       "protocol_type                    int64\n",
       "flag                             int64\n",
       "src_bytes                        int64\n",
       "dst_bytes                        int64\n",
       "land                             int64\n",
       "wrong_fragment                   int64\n",
       "urgent                           int64\n",
       "hot                              int64\n",
       "num_failed_logins                int64\n",
       "logged_in                        int64\n",
       "num_compromised                  int64\n",
       "root_shell                       int64\n",
       "su_attempted                     int64\n",
       "num_file_creations               int64\n",
       "num_shells                       int64\n",
       "num_access_files                 int64\n",
       "is_host_login                    int64\n",
       "is_guest_login                   int64\n",
       "count                            int64\n",
       "srv_count                        int64\n",
       "serror_rate                    float64\n",
       "rerror_rate                    float64\n",
       "same_srv_rate                  float64\n",
       "diff_srv_rate                  float64\n",
       "srv_diff_host_rate             float64\n",
       "dst_host_count                   int64\n",
       "dst_host_srv_count               int64\n",
       "dst_host_diff_srv_rate         float64\n",
       "dst_host_same_src_port_rate    float64\n",
       "dst_host_srv_diff_host_rate    float64\n",
       "target                          object\n",
       "Attack Type                     object\n",
       "dtype: object"
      ]
     },
     "execution_count": 6,
     "metadata": {},
     "output_type": "execute_result"
    }
   ],
   "source": [
    "df.dtypes"
   ]
  },
  {
   "attachments": {},
   "cell_type": "markdown",
   "metadata": {},
   "source": [
    "Converting float to Integer"
   ]
  },
  {
   "cell_type": "code",
   "execution_count": 7,
   "metadata": {},
   "outputs": [],
   "source": [
    "df[\"serror_rate\"] *= 100\n",
    "df[\"serror_rate\"] = df[\"serror_rate\"].astype(numpy.int64)"
   ]
  },
  {
   "cell_type": "code",
   "execution_count": 8,
   "metadata": {},
   "outputs": [],
   "source": [
    "df[\"rerror_rate\"] *= 10\n",
    "df[\"rerror_rate\"] = df[\"rerror_rate\"].astype(numpy.int64)"
   ]
  },
  {
   "cell_type": "code",
   "execution_count": 9,
   "metadata": {},
   "outputs": [],
   "source": [
    "df[\"same_srv_rate\"] *= 10\n",
    "df[\"same_srv_rate\"] = df[\"same_srv_rate\"].astype(numpy.int64)"
   ]
  },
  {
   "cell_type": "code",
   "execution_count": 10,
   "metadata": {},
   "outputs": [],
   "source": [
    "df[\"diff_srv_rate\"] *= 10\n",
    "df[\"diff_srv_rate\"] = df[\"diff_srv_rate\"].astype(numpy.int64)"
   ]
  },
  {
   "cell_type": "code",
   "execution_count": 11,
   "metadata": {},
   "outputs": [],
   "source": [
    "df[\"srv_diff_host_rate\"] *= 100\n",
    "df[\"srv_diff_host_rate\"] = df[\"srv_diff_host_rate\"].astype(numpy.int64)"
   ]
  },
  {
   "cell_type": "code",
   "execution_count": 12,
   "metadata": {},
   "outputs": [],
   "source": [
    "df[\"dst_host_diff_srv_rate\"] *= 10\n",
    "df[\"dst_host_diff_srv_rate\"] = df[\"dst_host_diff_srv_rate\"].astype(numpy.int64)"
   ]
  },
  {
   "cell_type": "code",
   "execution_count": 13,
   "metadata": {},
   "outputs": [],
   "source": [
    "df[\"dst_host_same_src_port_rate\"] *= 100\n",
    "df[\"dst_host_same_src_port_rate\"] = df[\"dst_host_same_src_port_rate\"].astype(numpy.int64)"
   ]
  },
  {
   "cell_type": "code",
   "execution_count": 14,
   "metadata": {},
   "outputs": [],
   "source": [
    "df[\"dst_host_srv_diff_host_rate\"] *= 100\n",
    "df[\"dst_host_srv_diff_host_rate\"] = df[\"dst_host_srv_diff_host_rate\"].astype(numpy.int64)"
   ]
  },
  {
   "attachments": {},
   "cell_type": "markdown",
   "metadata": {},
   "source": [
    "Converting String to Integer"
   ]
  },
  {
   "cell_type": "code",
   "execution_count": 15,
   "metadata": {},
   "outputs": [],
   "source": [
    "# buffer_overflow. to -1\n",
    "df[\"target\"].replace(to_replace = \"buffer_overflow.\", value = -1, inplace = True)\n",
    "\n",
    "# normal. to 0\n",
    "df[\"target\"].replace(to_replace = \"normal.\", value = 0, inplace = True)\n",
    "\n",
    "# loadmodule. to 1\n",
    "df[\"target\"].replace(to_replace = \"loadmodule.\", value = 1, inplace = True)\n",
    "\n",
    "# perl. to 2\n",
    "df[\"target\"].replace(to_replace = \"perl.\", value = 2, inplace = True)\n",
    "\n",
    "# neptune. to 3\n",
    "df[\"target\"].replace(to_replace = \"neptune.\", value = 3, inplace = True)\n",
    "\n",
    "# smurf. to 4 \n",
    "df[\"target\"].replace(to_replace = \"smurf.\", value = 4, inplace = True)\n",
    "\n",
    "# guess_passwd. to 5\n",
    "df[\"target\"].replace(to_replace = \"guess_passwd.\", value = 5, inplace = True)\n",
    "\n",
    "# teardrop. to 6 \n",
    "df[\"target\"].replace(to_replace = \"teardrop.\", value = 6, inplace = True)\n",
    "\n",
    "# portsweep. to 7\n",
    "df[\"target\"].replace(to_replace = \"portsweep.\", value = 7, inplace = True)\n",
    "\n",
    "# imap. to 8 \n",
    "df[\"target\"].replace(to_replace = \"imap.\", value = 8, inplace = True)\n",
    "\n",
    "# ipsweep. to 9\n",
    "df[\"target\"].replace(to_replace = \"ipsweep.\", value = 9, inplace = True)\n",
    "\n",
    "# land. to 10 \n",
    "df[\"target\"].replace(to_replace = \"land.\", value = 10, inplace = True)\n",
    "\n",
    "# ftp_write. to 11 \n",
    "df[\"target\"].replace(to_replace = \"ftp_write.\", value = 11, inplace = True)\n",
    "\n",
    "# back. to 12 \n",
    "df[\"target\"].replace(to_replace = \"back.\", value = 12, inplace = True)\n",
    "\n",
    "# satan. to 13\n",
    "df[\"target\"].replace(to_replace = \"satan.\", value = 13, inplace = True)\n",
    "\n",
    "# phf. to 14 \n",
    "df[\"target\"].replace(to_replace = \"phf.\", value = 14, inplace = True)\n",
    "\n",
    "# nmap. to 15\n",
    "df[\"target\"].replace(to_replace = \"nmap.\", value = 15, inplace = True)\n",
    "\n",
    "# multihop. to 16 \n",
    "df[\"target\"].replace(to_replace = \"multihop.\", value = 16, inplace = True)\n",
    "\n",
    "# warezmaster. to 17\n",
    "df[\"target\"].replace(to_replace = \"warezmaster.\", value = 17, inplace = True)\n",
    "\n",
    "# warezclient. to 18\n",
    "df[\"target\"].replace(to_replace = \"warezclient.\", value = 18, inplace = True)\n",
    "\n",
    "# spy. to 19\n",
    "df[\"target\"].replace(to_replace = \"spy.\", value = 19, inplace = True)\n",
    "\n",
    "# rootkit. to 20\n",
    "df[\"target\"].replace(to_replace = \"rootkit.\", value = 20, inplace = True)\n",
    "\n",
    "# rootkit. to 21\n",
    "df[\"target\"].replace(to_replace = \"pod.\", value = 21, inplace = True)"
   ]
  },
  {
   "cell_type": "code",
   "execution_count": 16,
   "metadata": {},
   "outputs": [],
   "source": [
    "# normal to 0\n",
    "df[\"Attack Type\"].replace(to_replace = \"normal\", value = 0, inplace = True)\n",
    "\n",
    "# dos to 1 (neptune, smurf, land, back)\n",
    "df[\"Attack Type\"].replace(to_replace = \"dos\", value = 1, inplace = True)\n",
    "\n",
    "# probe to 2 (ipsweep, postsweep)\n",
    "df[\"Attack Type\"].replace(to_replace = \"probe\", value = 2, inplace = True)\n",
    "\n",
    "# r2l to 3 (guess_passwd)\n",
    "df[\"Attack Type\"].replace(to_replace = \"r2l\", value = 3, inplace = True)\n",
    "\n",
    "# u2r to 4\n",
    "df[\"Attack Type\"].replace(to_replace = \"u2r\", value = 4, inplace = True)"
   ]
  },
  {
   "cell_type": "code",
   "execution_count": 17,
   "metadata": {},
   "outputs": [],
   "source": [
    "df[\"target\"] = df[\"target\"].astype(numpy.int64)"
   ]
  },
  {
   "cell_type": "code",
   "execution_count": 18,
   "metadata": {},
   "outputs": [],
   "source": [
    "df[\"target\"] = df[\"target\"].astype(numpy.int64)"
   ]
  },
  {
   "cell_type": "code",
   "execution_count": 19,
   "metadata": {},
   "outputs": [
    {
     "data": {
      "text/plain": [
       "duration                       int64\n",
       "protocol_type                  int64\n",
       "flag                           int64\n",
       "src_bytes                      int64\n",
       "dst_bytes                      int64\n",
       "land                           int64\n",
       "wrong_fragment                 int64\n",
       "urgent                         int64\n",
       "hot                            int64\n",
       "num_failed_logins              int64\n",
       "logged_in                      int64\n",
       "num_compromised                int64\n",
       "root_shell                     int64\n",
       "su_attempted                   int64\n",
       "num_file_creations             int64\n",
       "num_shells                     int64\n",
       "num_access_files               int64\n",
       "is_host_login                  int64\n",
       "is_guest_login                 int64\n",
       "count                          int64\n",
       "srv_count                      int64\n",
       "serror_rate                    int64\n",
       "rerror_rate                    int64\n",
       "same_srv_rate                  int64\n",
       "diff_srv_rate                  int64\n",
       "srv_diff_host_rate             int64\n",
       "dst_host_count                 int64\n",
       "dst_host_srv_count             int64\n",
       "dst_host_diff_srv_rate         int64\n",
       "dst_host_same_src_port_rate    int64\n",
       "dst_host_srv_diff_host_rate    int64\n",
       "target                         int64\n",
       "Attack Type                    int64\n",
       "dtype: object"
      ]
     },
     "execution_count": 19,
     "metadata": {},
     "output_type": "execute_result"
    }
   ],
   "source": [
    "df.dtypes"
   ]
  },
  {
   "cell_type": "code",
   "execution_count": 20,
   "metadata": {},
   "outputs": [],
   "source": [
    "df.to_csv('finalInt.csv', index = False) "
   ]
  }
 ],
 "metadata": {
  "kernelspec": {
   "display_name": "base",
   "language": "python",
   "name": "python3"
  },
  "language_info": {
   "codemirror_mode": {
    "name": "ipython",
    "version": 3
   },
   "file_extension": ".py",
   "mimetype": "text/x-python",
   "name": "python",
   "nbconvert_exporter": "python",
   "pygments_lexer": "ipython3",
   "version": "3.9.13"
  },
  "orig_nbformat": 4,
  "vscode": {
   "interpreter": {
    "hash": "727a28ee4c40c57140038d04f8464ce2838cdd9cbed412c77ad124b108b93625"
   }
  }
 },
 "nbformat": 4,
 "nbformat_minor": 2
}
