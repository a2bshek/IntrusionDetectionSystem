{
 "cells": [
  {
   "cell_type": "code",
   "execution_count": 1,
   "metadata": {},
   "outputs": [],
   "source": [
    "import time\n",
    "import keras\n",
    "import pickle\n",
    "import numpy as np\n",
    "import pandas as pd\n",
    "import matplotlib.pyplot as plt\n",
    "from keras.models import Sequential\n",
    "from keras.layers import Dense, LSTM\n",
    "from sklearn.model_selection import train_test_split"
   ]
  },
  {
   "cell_type": "code",
   "execution_count": 2,
   "metadata": {},
   "outputs": [
    {
     "name": "stdout",
     "output_type": "stream",
     "text": [
      "Epoch 1/10\n",
      "122461/122461 [==============================] - 846s 7ms/step - loss: 0.0028 - accuracy: 0.9998 - val_loss: 2.4548e-04 - val_accuracy: 1.0000\n",
      "Epoch 2/10\n",
      "122461/122461 [==============================] - 831s 7ms/step - loss: 1.7059e-04 - accuracy: 1.0000 - val_loss: 2.5687e-04 - val_accuracy: 1.0000\n",
      "Epoch 3/10\n",
      "122461/122461 [==============================] - 961s 8ms/step - loss: 1.7392e-04 - accuracy: 1.0000 - val_loss: 3.0856e-04 - val_accuracy: 1.0000\n",
      "Epoch 4/10\n",
      "122461/122461 [==============================] - 827s 7ms/step - loss: 1.5566e-04 - accuracy: 1.0000 - val_loss: 2.7473e-04 - val_accuracy: 1.0000\n",
      "Epoch 5/10\n",
      "122461/122461 [==============================] - 821s 7ms/step - loss: 1.2442e-04 - accuracy: 1.0000 - val_loss: 2.4942e-04 - val_accuracy: 1.0000\n",
      "Epoch 6/10\n",
      "122461/122461 [==============================] - 780s 6ms/step - loss: 1.1835e-04 - accuracy: 1.0000 - val_loss: 2.1000e-04 - val_accuracy: 1.0000\n",
      "Epoch 7/10\n",
      "122461/122461 [==============================] - 726s 6ms/step - loss: 1.1799e-04 - accuracy: 1.0000 - val_loss: 2.0934e-04 - val_accuracy: 1.0000\n",
      "Epoch 8/10\n",
      "122461/122461 [==============================] - 725s 6ms/step - loss: 1.1121e-04 - accuracy: 1.0000 - val_loss: 2.5650e-04 - val_accuracy: 1.0000\n",
      "Epoch 9/10\n",
      "122461/122461 [==============================] - 723s 6ms/step - loss: 1.0224e-04 - accuracy: 1.0000 - val_loss: 2.1502e-04 - val_accuracy: 1.0000\n",
      "Epoch 10/10\n",
      "122461/122461 [==============================] - 724s 6ms/step - loss: 1.0433e-04 - accuracy: 1.0000 - val_loss: 2.0050e-04 - val_accuracy: 1.0000\n",
      "30616/30616 [==============================] - 96s 3ms/step - loss: 2.0050e-04 - accuracy: 1.0000\n",
      "Test Accuracy: 0.9999816417694092\n",
      "Test Loss: 0.00020049914019182324\n",
      "Training time:  7966.016467809677\n"
     ]
    }
   ],
   "source": [
    "# Load the KDD99 dataset into a pandas dataframe\n",
    "df = pd.read_csv('../Preprocess/finalInt.csv')\n",
    "\n",
    "# Split the dataset into training and testing sets\n",
    "X = df.iloc[:, :-1].values\n",
    "y = df.iloc[:, -1].values\n",
    "\n",
    "train_data, test_data, train_labels, test_labels = train_test_split(X, y, test_size=0.2, random_state=42)\n",
    "\n",
    "# Preprocess the data\n",
    "mean = train_data.mean(axis=0)\n",
    "std = train_data.std(axis=0)\n",
    "train_data = (train_data - mean) / std\n",
    "test_data = (test_data - mean) / std\n",
    "\n",
    "# One-hot encode the labels\n",
    "train_labels = keras.utils.to_categorical(train_labels, num_classes=23)\n",
    "test_labels = keras.utils.to_categorical(test_labels, num_classes=23)\n",
    "\n",
    "# Reshape the data for LSTM input\n",
    "train_data = train_data.reshape((train_data.shape[0], 1, train_data.shape[1]))\n",
    "test_data = test_data.reshape((test_data.shape[0], 1, test_data.shape[1]))\n",
    "\n",
    "# Define the LSTM model\n",
    "LongShortTMem = Sequential()\n",
    "LongShortTMem.add(LSTM(50, input_shape=(train_data.shape[1], train_data.shape[2])))\n",
    "LongShortTMem.add(Dense(23, activation=\"softmax\"))\n",
    "\n",
    "# Compile the model\n",
    "LongShortTMem.compile(loss='categorical_crossentropy', optimizer='adam', metrics=['accuracy'])\n",
    "\n",
    "# Train the model\n",
    "start_time = time.time()\n",
    "history = LongShortTMem.fit(train_data, train_labels, epochs=10, batch_size=32, validation_data=(test_data, test_labels))\n",
    "end_time = time.time()\n",
    "\n",
    "Train_Time = end_time - start_time\n",
    "\n",
    "# Evaluate the model on the test data\n",
    "test_loss, test_accuracy = LongShortTMem.evaluate(test_data, test_labels)\n",
    "print(\"Test Accuracy:\", test_accuracy)\n",
    "print(\"Test Loss:\", test_loss)\n",
    "print(\"Training time: \",Train_Time)"
   ]
  },
  {
   "cell_type": "code",
   "execution_count": 3,
   "metadata": {},
   "outputs": [
    {
     "name": "stderr",
     "output_type": "stream",
     "text": [
      "WARNING:absl:Found untraced functions such as lstm_cell_layer_call_fn, lstm_cell_layer_call_and_return_conditional_losses while saving (showing 2 of 2). These functions will not be directly callable after loading.\n"
     ]
    },
    {
     "name": "stdout",
     "output_type": "stream",
     "text": [
      "INFO:tensorflow:Assets written to: ram://d4c61398-74c4-4213-b757-34bb2fe2eeb1/assets\n"
     ]
    },
    {
     "name": "stderr",
     "output_type": "stream",
     "text": [
      "INFO:tensorflow:Assets written to: ram://d4c61398-74c4-4213-b757-34bb2fe2eeb1/assets\n"
     ]
    }
   ],
   "source": [
    "# pickle.dump(LongShortTMem, open(\"../ML/LongShortTMem.pkl\", \"wb\"))"
   ]
  },
  {
   "cell_type": "code",
   "execution_count": 4,
   "metadata": {},
   "outputs": [],
   "source": [
    "LongShortTMem.save('../ML/LongShortTMem.h5')"
   ]
  }
 ],
 "metadata": {
  "kernelspec": {
   "display_name": "base",
   "language": "python",
   "name": "python3"
  },
  "language_info": {
   "codemirror_mode": {
    "name": "ipython",
    "version": 3
   },
   "file_extension": ".py",
   "mimetype": "text/x-python",
   "name": "python",
   "nbconvert_exporter": "python",
   "pygments_lexer": "ipython3",
   "version": "3.9.13"
  },
  "orig_nbformat": 4,
  "vscode": {
   "interpreter": {
    "hash": "727a28ee4c40c57140038d04f8464ce2838cdd9cbed412c77ad124b108b93625"
   }
  }
 },
 "nbformat": 4,
 "nbformat_minor": 2
}
