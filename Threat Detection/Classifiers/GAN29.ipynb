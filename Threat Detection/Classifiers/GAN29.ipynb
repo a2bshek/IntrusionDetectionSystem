{
 "cells": [
  {
   "cell_type": "code",
   "execution_count": 1,
   "metadata": {},
   "outputs": [],
   "source": [
    "import numpy as np\n",
    "import pandas as pd\n",
    "import tensorflow as tf\n",
    "import matplotlib.pyplot as plt "
   ]
  },
  {
   "cell_type": "code",
   "execution_count": 2,
   "metadata": {},
   "outputs": [],
   "source": [
    "# Load the KDD99 dataset\n",
    "dataset = pd.read_csv(\"../dataset/kddcup.data/data.csv\")"
   ]
  },
  {
   "cell_type": "code",
   "execution_count": 3,
   "metadata": {},
   "outputs": [],
   "source": [
    "# Preprocess the data\n",
    "def preprocess(df):\n",
    "    categorical_columns = [col for col in df.columns if df[col].dtype == 'object']\n",
    "    for col in categorical_columns:\n",
    "        df[col] = df[col].astype('category').cat.codes\n",
    "    # df.to_csv(\"../Preprocess/kddcup.data.csv\")\n",
    "    return df.values\n",
    "\n",
    "df = preprocess(dataset)"
   ]
  },
  {
   "cell_type": "code",
   "execution_count": 4,
   "metadata": {},
   "outputs": [],
   "source": [
    "# Split the data into training and test sets\n",
    "train_data = df[:int(len(df) * 0.9)]\n",
    "test_data = df[int(len(df) * 0.9):]"
   ]
  },
  {
   "cell_type": "code",
   "execution_count": 5,
   "metadata": {},
   "outputs": [],
   "source": [
    "# Define the generator model\n",
    "def make_generator_model():\n",
    "    model = tf.keras.Sequential()\n",
    "    model.add(tf.keras.layers.Dense(256, input_dim=100))\n",
    "    model.add(tf.keras.layers.LeakyReLU())\n",
    "    model.add(tf.keras.layers.BatchNormalization(momentum=0.8))\n",
    "    model.add(tf.keras.layers.Dense(512))\n",
    "    model.add(tf.keras.layers.LeakyReLU())\n",
    "    model.add(tf.keras.layers.BatchNormalization(momentum=0.8))\n",
    "    model.add(tf.keras.layers.Dense(1024))\n",
    "    model.add(tf.keras.layers.LeakyReLU())\n",
    "    model.add(tf.keras.layers.BatchNormalization(momentum=0.8))\n",
    "    model.add(tf.keras.layers.Dense(np.prod(train_data.shape[1:]), activation='tanh'))\n",
    "    model.add(tf.keras.layers.Reshape(target_shape=train_data.shape[1:]))\n",
    "    return model\n",
    "\n",
    "generator = make_generator_model()"
   ]
  },
  {
   "cell_type": "code",
   "execution_count": 6,
   "metadata": {},
   "outputs": [],
   "source": [
    "# Define the discriminator model\n",
    "def make_discriminator_model():\n",
    "    model = tf.keras.Sequential()\n",
    "    model.add(tf.keras.layers.Flatten(input_shape=train_data.shape[1:]))\n",
    "    model.add(tf.keras.layers.Dense(1024))\n",
    "    model.add(tf.keras.layers.LeakyReLU())\n",
    "    model.add(tf.keras.layers.Dense(512))\n",
    "    model.add(tf.keras.layers.LeakyReLU())\n",
    "    model.add(tf.keras.layers.Dense(256))\n",
    "    model.add(tf.keras.layers.LeakyReLU())\n",
    "    model.add(tf.keras.layers.Dense(1, activation='sigmoid'))\n",
    "    return model\n",
    "\n",
    "discriminator = make_discriminator_model()\n",
    "\n",
    "# Compile the discriminator\n",
    "discriminator.compile(loss='binary_crossentropy', optimizer=tf.keras.optimizers.Adam(0.0002, 0.5), metrics=['accuracy'])\n",
    "\n",
    "# Freeze the weights of the discriminator\n",
    "discriminator.trainable = False"
   ]
  },
  {
   "cell_type": "code",
   "execution_count": 7,
   "metadata": {},
   "outputs": [],
   "source": [
    "# Define the combined model for training the generator\n",
    "def make_gan(discriminator, generator):\n",
    "    model = tf.keras.Sequential()\n",
    "    model.add(generator)\n",
    "    model.add(discriminator)\n",
    "    return model\n",
    "\n",
    "gan = make_gan(discriminator, generator)\n",
    "\n",
    "# Compile the combined model\n",
    "gan.compile(loss='binary_crossentropy', optimizer=tf.keras.optimizers.Adam(0.0002, 0.5))"
   ]
  },
  {
   "cell_type": "code",
   "execution_count": 8,
   "metadata": {},
   "outputs": [
    {
     "name": "stdout",
     "output_type": "stream",
     "text": [
      "2/2 [==============================] - 2s 0s/step\n",
      "Epoch: 1 [D loss: 1.553238, acc.: 46.88%] [G loss: 0.671096]\n",
      "2/2 [==============================] - 0s 9ms/step\n",
      "Epoch: 2 [D loss: 0.353840, acc.: 63.28%] [G loss: 0.666811]\n",
      "2/2 [==============================] - 0s 8ms/step\n",
      "Epoch: 3 [D loss: 0.356504, acc.: 64.84%] [G loss: 0.670732]\n",
      "2/2 [==============================] - 0s 0s/step\n",
      "Epoch: 4 [D loss: 0.351277, acc.: 66.41%] [G loss: 0.674895]\n",
      "2/2 [==============================] - 0s 8ms/step\n",
      "Epoch: 5 [D loss: 0.345427, acc.: 77.34%] [G loss: 0.686369]\n",
      "2/2 [==============================] - 0s 6ms/step\n",
      "Epoch: 6 [D loss: 0.342965, acc.: 78.91%] [G loss: 0.697211]\n",
      "2/2 [==============================] - 0s 0s/step\n",
      "Epoch: 7 [D loss: 0.334972, acc.: 82.81%] [G loss: 0.715224]\n",
      "2/2 [==============================] - 0s 0s/step\n",
      "Epoch: 8 [D loss: 0.337574, acc.: 80.47%] [G loss: 0.726165]\n",
      "2/2 [==============================] - 0s 8ms/step\n",
      "Epoch: 9 [D loss: 0.330591, acc.: 84.38%] [G loss: 0.755313]\n",
      "2/2 [==============================] - 0s 8ms/step\n",
      "Epoch: 10 [D loss: 2.134050, acc.: 84.38%] [G loss: 0.732413]\n",
      "2/2 [==============================] - 0s 0s/step\n",
      "Epoch: 11 [D loss: 0.325012, acc.: 85.16%] [G loss: 0.729940]\n",
      "2/2 [==============================] - 0s 0s/step\n",
      "Epoch: 12 [D loss: 0.346497, acc.: 71.09%] [G loss: 0.724329]\n",
      "2/2 [==============================] - 0s 8ms/step\n",
      "Epoch: 13 [D loss: 0.335104, acc.: 80.47%] [G loss: 0.728821]\n",
      "2/2 [==============================] - 0s 8ms/step\n",
      "Epoch: 14 [D loss: 0.335210, acc.: 74.22%] [G loss: 0.733612]\n",
      "2/2 [==============================] - 0s 8ms/step\n",
      "Epoch: 15 [D loss: 0.328637, acc.: 78.91%] [G loss: 0.760809]\n",
      "2/2 [==============================] - 0s 0s/step\n",
      "Epoch: 16 [D loss: 0.329995, acc.: 80.47%] [G loss: 0.766717]\n",
      "2/2 [==============================] - 0s 0s/step\n",
      "Epoch: 17 [D loss: 0.312535, acc.: 84.38%] [G loss: 0.780668]\n",
      "2/2 [==============================] - 0s 0s/step\n",
      "Epoch: 18 [D loss: 0.317579, acc.: 82.81%] [G loss: 0.773672]\n",
      "2/2 [==============================] - 0s 0s/step\n",
      "Epoch: 19 [D loss: 0.306103, acc.: 85.16%] [G loss: 0.800940]\n",
      "2/2 [==============================] - 0s 9ms/step\n",
      "Epoch: 20 [D loss: 0.297077, acc.: 90.62%] [G loss: 0.821609]\n",
      "2/2 [==============================] - 0s 8ms/step\n",
      "Epoch: 21 [D loss: 0.290677, acc.: 89.84%] [G loss: 0.834447]\n",
      "2/2 [==============================] - 0s 7ms/step\n",
      "Epoch: 22 [D loss: 0.291405, acc.: 93.75%] [G loss: 0.846032]\n",
      "2/2 [==============================] - 0s 8ms/step\n",
      "Epoch: 23 [D loss: 0.285421, acc.: 92.97%] [G loss: 0.872741]\n",
      "2/2 [==============================] - 0s 8ms/step\n",
      "Epoch: 24 [D loss: 0.290717, acc.: 89.84%] [G loss: 0.859406]\n",
      "2/2 [==============================] - 0s 8ms/step\n",
      "Epoch: 25 [D loss: 0.285920, acc.: 86.72%] [G loss: 0.877578]\n",
      "2/2 [==============================] - 0s 0s/step\n",
      "Epoch: 26 [D loss: 0.266764, acc.: 96.09%] [G loss: 0.883028]\n",
      "2/2 [==============================] - 0s 8ms/step\n",
      "Epoch: 27 [D loss: 0.270239, acc.: 96.09%] [G loss: 0.924871]\n",
      "2/2 [==============================] - 0s 8ms/step\n",
      "Epoch: 28 [D loss: 0.266962, acc.: 95.31%] [G loss: 0.914784]\n",
      "2/2 [==============================] - 0s 0s/step\n",
      "Epoch: 29 [D loss: 0.247453, acc.: 98.44%] [G loss: 0.935520]\n",
      "2/2 [==============================] - 0s 8ms/step\n",
      "Epoch: 30 [D loss: 0.261843, acc.: 97.66%] [G loss: 0.938234]\n",
      "2/2 [==============================] - 0s 0s/step\n",
      "Epoch: 31 [D loss: 0.254827, acc.: 96.88%] [G loss: 0.958177]\n",
      "2/2 [==============================] - 0s 9ms/step\n",
      "Epoch: 32 [D loss: 0.253360, acc.: 96.88%] [G loss: 0.968373]\n",
      "2/2 [==============================] - 0s 8ms/step\n",
      "Epoch: 33 [D loss: 0.235863, acc.: 99.22%] [G loss: 0.995494]\n",
      "2/2 [==============================] - 0s 0s/step\n",
      "Epoch: 34 [D loss: 0.240500, acc.: 97.66%] [G loss: 0.974779]\n",
      "2/2 [==============================] - 0s 8ms/step\n",
      "Epoch: 35 [D loss: 0.235862, acc.: 96.88%] [G loss: 1.010515]\n",
      "2/2 [==============================] - 0s 0s/step\n",
      "Epoch: 36 [D loss: 0.238077, acc.: 100.00%] [G loss: 1.020906]\n",
      "2/2 [==============================] - 0s 8ms/step\n",
      "Epoch: 37 [D loss: 0.229020, acc.: 99.22%] [G loss: 1.022635]\n",
      "2/2 [==============================] - 0s 8ms/step\n",
      "Epoch: 38 [D loss: 0.220739, acc.: 98.44%] [G loss: 1.046529]\n",
      "2/2 [==============================] - 0s 8ms/step\n",
      "Epoch: 39 [D loss: 0.227077, acc.: 99.22%] [G loss: 1.042900]\n",
      "2/2 [==============================] - 0s 0s/step\n",
      "Epoch: 40 [D loss: 0.221611, acc.: 100.00%] [G loss: 1.079869]\n",
      "2/2 [==============================] - 0s 0s/step\n",
      "Epoch: 41 [D loss: 0.217535, acc.: 100.00%] [G loss: 1.076929]\n",
      "2/2 [==============================] - 0s 8ms/step\n",
      "Epoch: 42 [D loss: 0.207480, acc.: 100.00%] [G loss: 1.082806]\n",
      "2/2 [==============================] - 0s 0s/step\n",
      "Epoch: 43 [D loss: 0.202746, acc.: 99.22%] [G loss: 1.102594]\n",
      "2/2 [==============================] - 0s 8ms/step\n",
      "Epoch: 44 [D loss: 0.213427, acc.: 100.00%] [G loss: 1.143694]\n",
      "2/2 [==============================] - 0s 8ms/step\n",
      "Epoch: 45 [D loss: 0.189725, acc.: 100.00%] [G loss: 1.145696]\n",
      "2/2 [==============================] - 0s 8ms/step\n",
      "Epoch: 46 [D loss: 0.202410, acc.: 100.00%] [G loss: 1.138937]\n",
      "2/2 [==============================] - 0s 8ms/step\n",
      "Epoch: 47 [D loss: 0.192199, acc.: 100.00%] [G loss: 1.191684]\n",
      "2/2 [==============================] - 0s 8ms/step\n",
      "Epoch: 48 [D loss: 0.189508, acc.: 100.00%] [G loss: 1.213877]\n",
      "2/2 [==============================] - 0s 8ms/step\n",
      "Epoch: 49 [D loss: 0.198764, acc.: 100.00%] [G loss: 1.165783]\n",
      "2/2 [==============================] - 0s 9ms/step\n",
      "Epoch: 50 [D loss: 0.202706, acc.: 99.22%] [G loss: 1.202908]\n",
      "2/2 [==============================] - 0s 8ms/step\n",
      "Epoch: 51 [D loss: 0.173657, acc.: 100.00%] [G loss: 1.205675]\n",
      "2/2 [==============================] - 0s 8ms/step\n",
      "Epoch: 52 [D loss: 0.239441, acc.: 99.22%] [G loss: 1.090142]\n",
      "2/2 [==============================] - 0s 8ms/step\n",
      "Epoch: 53 [D loss: 0.221638, acc.: 95.31%] [G loss: 1.063455]\n",
      "2/2 [==============================] - 0s 2ms/step\n",
      "Epoch: 54 [D loss: 0.210257, acc.: 99.22%] [G loss: 1.067189]\n",
      "2/2 [==============================] - 0s 8ms/step\n",
      "Epoch: 55 [D loss: 0.241319, acc.: 96.88%] [G loss: 1.059033]\n",
      "2/2 [==============================] - 0s 9ms/step\n",
      "Epoch: 56 [D loss: 0.226077, acc.: 99.22%] [G loss: 1.055274]\n",
      "2/2 [==============================] - 0s 8ms/step\n",
      "Epoch: 57 [D loss: 0.221784, acc.: 98.44%] [G loss: 1.075495]\n",
      "2/2 [==============================] - 0s 0s/step\n",
      "Epoch: 58 [D loss: 0.202756, acc.: 98.44%] [G loss: 1.094101]\n",
      "2/2 [==============================] - 0s 8ms/step\n",
      "Epoch: 59 [D loss: 0.211004, acc.: 98.44%] [G loss: 1.116429]\n",
      "2/2 [==============================] - 0s 8ms/step\n",
      "Epoch: 60 [D loss: 0.216682, acc.: 100.00%] [G loss: 1.099821]\n",
      "2/2 [==============================] - 0s 5ms/step\n",
      "Epoch: 61 [D loss: 0.204028, acc.: 100.00%] [G loss: 1.133090]\n",
      "2/2 [==============================] - 0s 9ms/step\n",
      "Epoch: 62 [D loss: 0.215667, acc.: 98.44%] [G loss: 1.153537]\n",
      "2/2 [==============================] - 0s 8ms/step\n",
      "Epoch: 63 [D loss: 0.196186, acc.: 100.00%] [G loss: 1.151296]\n",
      "2/2 [==============================] - 0s 10ms/step\n",
      "Epoch: 64 [D loss: 0.197643, acc.: 99.22%] [G loss: 1.167483]\n",
      "2/2 [==============================] - 0s 0s/step\n",
      "Epoch: 65 [D loss: 0.190740, acc.: 99.22%] [G loss: 1.175330]\n",
      "2/2 [==============================] - 0s 8ms/step\n",
      "Epoch: 66 [D loss: 0.188749, acc.: 100.00%] [G loss: 1.202061]\n",
      "2/2 [==============================] - 0s 1ms/step\n",
      "Epoch: 67 [D loss: 0.202623, acc.: 100.00%] [G loss: 1.223607]\n",
      "2/2 [==============================] - 0s 8ms/step\n",
      "Epoch: 68 [D loss: 0.193304, acc.: 100.00%] [G loss: 1.196627]\n",
      "2/2 [==============================] - 0s 7ms/step\n",
      "Epoch: 69 [D loss: 0.193283, acc.: 100.00%] [G loss: 1.221254]\n",
      "2/2 [==============================] - 0s 0s/step\n",
      "Epoch: 70 [D loss: 0.172961, acc.: 100.00%] [G loss: 1.268603]\n",
      "2/2 [==============================] - 0s 8ms/step\n",
      "Epoch: 71 [D loss: 0.177225, acc.: 100.00%] [G loss: 1.240364]\n",
      "2/2 [==============================] - 0s 0s/step\n",
      "Epoch: 72 [D loss: 0.171355, acc.: 100.00%] [G loss: 1.259995]\n",
      "2/2 [==============================] - 0s 8ms/step\n",
      "Epoch: 73 [D loss: 0.185584, acc.: 100.00%] [G loss: 1.270748]\n",
      "2/2 [==============================] - 0s 8ms/step\n",
      "Epoch: 74 [D loss: 0.168543, acc.: 99.22%] [G loss: 1.281215]\n",
      "2/2 [==============================] - 0s 0s/step\n",
      "Epoch: 75 [D loss: 0.167742, acc.: 99.22%] [G loss: 1.289943]\n",
      "2/2 [==============================] - 0s 7ms/step\n",
      "Epoch: 76 [D loss: 0.176882, acc.: 100.00%] [G loss: 1.321539]\n",
      "2/2 [==============================] - 0s 0s/step\n",
      "Epoch: 77 [D loss: 0.173615, acc.: 100.00%] [G loss: 1.307326]\n",
      "2/2 [==============================] - 0s 0s/step\n",
      "Epoch: 78 [D loss: 0.170024, acc.: 100.00%] [G loss: 1.343758]\n",
      "2/2 [==============================] - 0s 0s/step\n",
      "Epoch: 79 [D loss: 0.172137, acc.: 99.22%] [G loss: 1.341553]\n",
      "2/2 [==============================] - 0s 0s/step\n",
      "Epoch: 80 [D loss: 0.152879, acc.: 100.00%] [G loss: 1.333364]\n",
      "2/2 [==============================] - 0s 8ms/step\n",
      "Epoch: 81 [D loss: 0.152979, acc.: 100.00%] [G loss: 1.331594]\n",
      "2/2 [==============================] - 0s 8ms/step\n",
      "Epoch: 82 [D loss: 0.156890, acc.: 99.22%] [G loss: 1.349553]\n",
      "2/2 [==============================] - 0s 8ms/step\n",
      "Epoch: 83 [D loss: 0.144519, acc.: 100.00%] [G loss: 1.379951]\n",
      "2/2 [==============================] - 0s 0s/step\n",
      "Epoch: 84 [D loss: 0.143556, acc.: 100.00%] [G loss: 1.397064]\n",
      "2/2 [==============================] - 0s 0s/step\n",
      "Epoch: 85 [D loss: 0.163925, acc.: 99.22%] [G loss: 1.396823]\n",
      "2/2 [==============================] - 0s 8ms/step\n",
      "Epoch: 86 [D loss: 0.144560, acc.: 100.00%] [G loss: 1.396484]\n",
      "2/2 [==============================] - 0s 8ms/step\n",
      "Epoch: 87 [D loss: 0.159500, acc.: 100.00%] [G loss: 1.414696]\n",
      "2/2 [==============================] - 0s 0s/step\n",
      "Epoch: 88 [D loss: 0.153564, acc.: 100.00%] [G loss: 1.405112]\n",
      "2/2 [==============================] - 0s 0s/step\n",
      "Epoch: 89 [D loss: 0.154584, acc.: 100.00%] [G loss: 1.437255]\n",
      "2/2 [==============================] - 0s 8ms/step\n",
      "Epoch: 90 [D loss: 0.139342, acc.: 100.00%] [G loss: 1.464350]\n",
      "2/2 [==============================] - 0s 0s/step\n",
      "Epoch: 91 [D loss: 0.154342, acc.: 100.00%] [G loss: 1.442996]\n",
      "2/2 [==============================] - 0s 8ms/step\n",
      "Epoch: 92 [D loss: 9.122191, acc.: 99.22%] [G loss: 1.321818]\n",
      "2/2 [==============================] - 0s 8ms/step\n",
      "Epoch: 93 [D loss: 0.176236, acc.: 100.00%] [G loss: 1.289696]\n",
      "2/2 [==============================] - 0s 8ms/step\n",
      "Epoch: 94 [D loss: 0.177404, acc.: 100.00%] [G loss: 1.288051]\n",
      "2/2 [==============================] - 0s 8ms/step\n",
      "Epoch: 95 [D loss: 0.165787, acc.: 99.22%] [G loss: 1.282880]\n",
      "2/2 [==============================] - 0s 8ms/step\n",
      "Epoch: 96 [D loss: 0.161553, acc.: 100.00%] [G loss: 1.290164]\n",
      "2/2 [==============================] - 0s 0s/step\n",
      "Epoch: 97 [D loss: 0.174059, acc.: 98.44%] [G loss: 1.293152]\n",
      "2/2 [==============================] - 0s 8ms/step\n",
      "Epoch: 98 [D loss: 0.176311, acc.: 100.00%] [G loss: 1.309813]\n",
      "2/2 [==============================] - 0s 0s/step\n",
      "Epoch: 99 [D loss: 0.157577, acc.: 100.00%] [G loss: 1.316651]\n",
      "2/2 [==============================] - 0s 8ms/step\n",
      "Epoch: 100 [D loss: 0.158137, acc.: 100.00%] [G loss: 1.341668]\n"
     ]
    }
   ],
   "source": [
    "# Train the GAN\n",
    "def train(gan, discriminator, generator, train_data, batch_size=128, epochs=100):\n",
    "    half_batch = int(batch_size / 2)\n",
    "    for epoch in range(epochs):\n",
    "        # Train the discriminator\n",
    "        idx = np.random.randint(0, train_data.shape[0], half_batch)\n",
    "        real_data = train_data[idx]\n",
    "        noise = np.random.normal(0, 1, (half_batch, 100))\n",
    "        fake_data = generator.predict(noise)\n",
    "        real_labels = np.ones((half_batch, 1))\n",
    "        fake_labels = np.zeros((half_batch, 1))\n",
    "        d_loss_real = discriminator.train_on_batch(real_data, real_labels)\n",
    "        d_loss_fake = discriminator.train_on_batch(fake_data, fake_labels)\n",
    "        d_loss = 0.5 * np.add(d_loss_real, d_loss_fake)\n",
    "\n",
    "        # Train the generator\n",
    "        noise = np.random.normal(0, 1, (batch_size, 100))\n",
    "        fake_labels = np.ones((batch_size, 1))\n",
    "        g_loss = gan.train_on_batch(noise, fake_labels)\n",
    "\n",
    "        # Print progress\n",
    "        print(\"Epoch: %d [D loss: %f, acc.: %.2f%%] [G loss: %f]\" % (epoch + 1, d_loss[0], 100 * d_loss[1], g_loss))\n",
    "\n",
    "train(gan, discriminator, generator, train_data, epochs=100)"
   ]
  },
  {
   "cell_type": "code",
   "execution_count": 9,
   "metadata": {},
   "outputs": [
    {
     "name": "stdout",
     "output_type": "stream",
     "text": [
      "4/4 [==============================] - 0s 5ms/step\n"
     ]
    }
   ],
   "source": [
    "# Generate new data\n",
    "noise = np.random.normal(0, 1, (100, 100))\n",
    "generated_data = generator.predict(noise)"
   ]
  },
  {
   "cell_type": "code",
   "execution_count": 18,
   "metadata": {},
   "outputs": [
    {
     "data": {
      "image/png": "[encoded data removed]",
      "text/plain": [
       "<Figure size 640x480 with 1 Axes>"
      ]
     },
     "metadata": {},
     "output_type": "display_data"
    }
   ],
   "source": [
    "# Plot the generated data\n",
    "plt.scatter(generated_data[:, 0], generated_data[:, 1], c=np.argmax(generated_data[:, 2:], axis=1))\n",
    "plt.show()"
   ]
  },
  {
   "cell_type": "code",
   "execution_count": 11,
   "metadata": {},
   "outputs": [],
   "source": [
    "# Save the discriminator model\n",
    "discriminator.compile(loss='binary_crossentropy', optimizer=tf.keras.optimizers.Adam(0.0002, 0.5))\n",
    "discriminator.save('../ML/GAN/discriminator29.h5')\n",
    "\n",
    "# Save the generator model\n",
    "generator.compile(optimizer='adam', loss='binary_crossentropy', metrics=['accuracy'])\n",
    "generator.save('../ML/GAN/generator29.h5')\n",
    "\n",
    "# Save the combined model\n",
    "gan.compile(loss='binary_crossentropy', optimizer=tf.keras.optimizers.Adam(0.0002, 0.5))\n",
    "gan.save('../ML/GAN/gan29.h5')"
   ]
  },
  {
   "cell_type": "code",
   "execution_count": 12,
   "metadata": {},
   "outputs": [],
   "source": [
    "# Load the discriminator model\n",
    "loaded_discriminator = tf.keras.models.load_model('../ML/GAN/discriminator29.h5')\n",
    "\n",
    "# Load the generator model\n",
    "loaded_generator = tf.keras.models.load_model('../ML/GAN/generator29.h5')\n",
    "\n",
    "# Load the combined model\n",
    "loaded_gan = tf.keras.models.load_model('../ML/GAN/gan29.h5')"
   ]
  },
  {
   "cell_type": "code",
   "execution_count": 13,
   "metadata": {},
   "outputs": [],
   "source": [
    "# Tensorflow Warning Fix\n",
    "@tf.function(input_signature=(tf.TensorSpec(shape=[None], dtype=tf.int32),))\n",
    "def next_collatz(x):\n",
    "    print(\"Tracing with\", x)\n",
    "    return tf.where(x % 2 == 0, x // 2, 3 * x + 1)"
   ]
  },
  {
   "cell_type": "code",
   "execution_count": 14,
   "metadata": {},
   "outputs": [
    {
     "ename": "FileNotFoundError",
     "evalue": "[Errno 2] No such file or directory: '../honey.csv'",
     "output_type": "error",
     "traceback": [
      "\u001b[1;31m---------------------------------------------------------------------------\u001b[0m",
      "\u001b[1;31mFileNotFoundError\u001b[0m                         Traceback (most recent call last)",
      "Cell \u001b[1;32mIn[14], line 1\u001b[0m\n\u001b[1;32m----> 1\u001b[0m honeypot_result \u001b[39m=\u001b[39m pd\u001b[39m.\u001b[39;49mread_csv(\u001b[39m\"\u001b[39;49m\u001b[39m../honey.csv\u001b[39;49m\u001b[39m\"\u001b[39;49m)\n",
      "File \u001b[1;32m~\\AppData\\Roaming\\Python\\Python39\\site-packages\\pandas\\util\\_decorators.py:211\u001b[0m, in \u001b[0;36mdeprecate_kwarg.<locals>._deprecate_kwarg.<locals>.wrapper\u001b[1;34m(*args, **kwargs)\u001b[0m\n\u001b[0;32m    209\u001b[0m     \u001b[39melse\u001b[39;00m:\n\u001b[0;32m    210\u001b[0m         kwargs[new_arg_name] \u001b[39m=\u001b[39m new_arg_value\n\u001b[1;32m--> 211\u001b[0m \u001b[39mreturn\u001b[39;00m func(\u001b[39m*\u001b[39margs, \u001b[39m*\u001b[39m\u001b[39m*\u001b[39mkwargs)\n",
      "File \u001b[1;32m~\\AppData\\Roaming\\Python\\Python39\\site-packages\\pandas\\util\\_decorators.py:331\u001b[0m, in \u001b[0;36mdeprecate_nonkeyword_arguments.<locals>.decorate.<locals>.wrapper\u001b[1;34m(*args, **kwargs)\u001b[0m\n\u001b[0;32m    325\u001b[0m \u001b[39mif\u001b[39;00m \u001b[39mlen\u001b[39m(args) \u001b[39m>\u001b[39m num_allow_args:\n\u001b[0;32m    326\u001b[0m     warnings\u001b[39m.\u001b[39mwarn(\n\u001b[0;32m    327\u001b[0m         msg\u001b[39m.\u001b[39mformat(arguments\u001b[39m=\u001b[39m_format_argument_list(allow_args)),\n\u001b[0;32m    328\u001b[0m         \u001b[39mFutureWarning\u001b[39;00m,\n\u001b[0;32m    329\u001b[0m         stacklevel\u001b[39m=\u001b[39mfind_stack_level(),\n\u001b[0;32m    330\u001b[0m     )\n\u001b[1;32m--> 331\u001b[0m \u001b[39mreturn\u001b[39;00m func(\u001b[39m*\u001b[39margs, \u001b[39m*\u001b[39m\u001b[39m*\u001b[39mkwargs)\n",
      "File \u001b[1;32m~\\AppData\\Roaming\\Python\\Python39\\site-packages\\pandas\\io\\parsers\\readers.py:950\u001b[0m, in \u001b[0;36mread_csv\u001b[1;34m(filepath_or_buffer, sep, delimiter, header, names, index_col, usecols, squeeze, prefix, mangle_dupe_cols, dtype, engine, converters, true_values, false_values, skipinitialspace, skiprows, skipfooter, nrows, na_values, keep_default_na, na_filter, verbose, skip_blank_lines, parse_dates, infer_datetime_format, keep_date_col, date_parser, dayfirst, cache_dates, iterator, chunksize, compression, thousands, decimal, lineterminator, quotechar, quoting, doublequote, escapechar, comment, encoding, encoding_errors, dialect, error_bad_lines, warn_bad_lines, on_bad_lines, delim_whitespace, low_memory, memory_map, float_precision, storage_options)\u001b[0m\n\u001b[0;32m    935\u001b[0m kwds_defaults \u001b[39m=\u001b[39m _refine_defaults_read(\n\u001b[0;32m    936\u001b[0m     dialect,\n\u001b[0;32m    937\u001b[0m     delimiter,\n\u001b[1;32m   (...)\u001b[0m\n\u001b[0;32m    946\u001b[0m     defaults\u001b[39m=\u001b[39m{\u001b[39m\"\u001b[39m\u001b[39mdelimiter\u001b[39m\u001b[39m\"\u001b[39m: \u001b[39m\"\u001b[39m\u001b[39m,\u001b[39m\u001b[39m\"\u001b[39m},\n\u001b[0;32m    947\u001b[0m )\n\u001b[0;32m    948\u001b[0m kwds\u001b[39m.\u001b[39mupdate(kwds_defaults)\n\u001b[1;32m--> 950\u001b[0m \u001b[39mreturn\u001b[39;00m _read(filepath_or_buffer, kwds)\n",
      "File \u001b[1;32m~\\AppData\\Roaming\\Python\\Python39\\site-packages\\pandas\\io\\parsers\\readers.py:605\u001b[0m, in \u001b[0;36m_read\u001b[1;34m(filepath_or_buffer, kwds)\u001b[0m\n\u001b[0;32m    602\u001b[0m _validate_names(kwds\u001b[39m.\u001b[39mget(\u001b[39m\"\u001b[39m\u001b[39mnames\u001b[39m\u001b[39m\"\u001b[39m, \u001b[39mNone\u001b[39;00m))\n\u001b[0;32m    604\u001b[0m \u001b[39m# Create the parser.\u001b[39;00m\n\u001b[1;32m--> 605\u001b[0m parser \u001b[39m=\u001b[39m TextFileReader(filepath_or_buffer, \u001b[39m*\u001b[39m\u001b[39m*\u001b[39mkwds)\n\u001b[0;32m    607\u001b[0m \u001b[39mif\u001b[39;00m chunksize \u001b[39mor\u001b[39;00m iterator:\n\u001b[0;32m    608\u001b[0m     \u001b[39mreturn\u001b[39;00m parser\n",
      "File \u001b[1;32m~\\AppData\\Roaming\\Python\\Python39\\site-packages\\pandas\\io\\parsers\\readers.py:1442\u001b[0m, in \u001b[0;36mTextFileReader.__init__\u001b[1;34m(self, f, engine, **kwds)\u001b[0m\n\u001b[0;32m   1439\u001b[0m     \u001b[39mself\u001b[39m\u001b[39m.\u001b[39moptions[\u001b[39m\"\u001b[39m\u001b[39mhas_index_names\u001b[39m\u001b[39m\"\u001b[39m] \u001b[39m=\u001b[39m kwds[\u001b[39m\"\u001b[39m\u001b[39mhas_index_names\u001b[39m\u001b[39m\"\u001b[39m]\n\u001b[0;32m   1441\u001b[0m \u001b[39mself\u001b[39m\u001b[39m.\u001b[39mhandles: IOHandles \u001b[39m|\u001b[39m \u001b[39mNone\u001b[39;00m \u001b[39m=\u001b[39m \u001b[39mNone\u001b[39;00m\n\u001b[1;32m-> 1442\u001b[0m \u001b[39mself\u001b[39m\u001b[39m.\u001b[39m_engine \u001b[39m=\u001b[39m \u001b[39mself\u001b[39;49m\u001b[39m.\u001b[39;49m_make_engine(f, \u001b[39mself\u001b[39;49m\u001b[39m.\u001b[39;49mengine)\n",
      "File \u001b[1;32m~\\AppData\\Roaming\\Python\\Python39\\site-packages\\pandas\\io\\parsers\\readers.py:1735\u001b[0m, in \u001b[0;36mTextFileReader._make_engine\u001b[1;34m(self, f, engine)\u001b[0m\n\u001b[0;32m   1733\u001b[0m     \u001b[39mif\u001b[39;00m \u001b[39m\"\u001b[39m\u001b[39mb\u001b[39m\u001b[39m\"\u001b[39m \u001b[39mnot\u001b[39;00m \u001b[39min\u001b[39;00m mode:\n\u001b[0;32m   1734\u001b[0m         mode \u001b[39m+\u001b[39m\u001b[39m=\u001b[39m \u001b[39m\"\u001b[39m\u001b[39mb\u001b[39m\u001b[39m\"\u001b[39m\n\u001b[1;32m-> 1735\u001b[0m \u001b[39mself\u001b[39m\u001b[39m.\u001b[39mhandles \u001b[39m=\u001b[39m get_handle(\n\u001b[0;32m   1736\u001b[0m     f,\n\u001b[0;32m   1737\u001b[0m     mode,\n\u001b[0;32m   1738\u001b[0m     encoding\u001b[39m=\u001b[39;49m\u001b[39mself\u001b[39;49m\u001b[39m.\u001b[39;49moptions\u001b[39m.\u001b[39;49mget(\u001b[39m\"\u001b[39;49m\u001b[39mencoding\u001b[39;49m\u001b[39m\"\u001b[39;49m, \u001b[39mNone\u001b[39;49;00m),\n\u001b[0;32m   1739\u001b[0m     compression\u001b[39m=\u001b[39;49m\u001b[39mself\u001b[39;49m\u001b[39m.\u001b[39;49moptions\u001b[39m.\u001b[39;49mget(\u001b[39m\"\u001b[39;49m\u001b[39mcompression\u001b[39;49m\u001b[39m\"\u001b[39;49m, \u001b[39mNone\u001b[39;49;00m),\n\u001b[0;32m   1740\u001b[0m     memory_map\u001b[39m=\u001b[39;49m\u001b[39mself\u001b[39;49m\u001b[39m.\u001b[39;49moptions\u001b[39m.\u001b[39;49mget(\u001b[39m\"\u001b[39;49m\u001b[39mmemory_map\u001b[39;49m\u001b[39m\"\u001b[39;49m, \u001b[39mFalse\u001b[39;49;00m),\n\u001b[0;32m   1741\u001b[0m     is_text\u001b[39m=\u001b[39;49mis_text,\n\u001b[0;32m   1742\u001b[0m     errors\u001b[39m=\u001b[39;49m\u001b[39mself\u001b[39;49m\u001b[39m.\u001b[39;49moptions\u001b[39m.\u001b[39;49mget(\u001b[39m\"\u001b[39;49m\u001b[39mencoding_errors\u001b[39;49m\u001b[39m\"\u001b[39;49m, \u001b[39m\"\u001b[39;49m\u001b[39mstrict\u001b[39;49m\u001b[39m\"\u001b[39;49m),\n\u001b[0;32m   1743\u001b[0m     storage_options\u001b[39m=\u001b[39;49m\u001b[39mself\u001b[39;49m\u001b[39m.\u001b[39;49moptions\u001b[39m.\u001b[39;49mget(\u001b[39m\"\u001b[39;49m\u001b[39mstorage_options\u001b[39;49m\u001b[39m\"\u001b[39;49m, \u001b[39mNone\u001b[39;49;00m),\n\u001b[0;32m   1744\u001b[0m )\n\u001b[0;32m   1745\u001b[0m \u001b[39massert\u001b[39;00m \u001b[39mself\u001b[39m\u001b[39m.\u001b[39mhandles \u001b[39mis\u001b[39;00m \u001b[39mnot\u001b[39;00m \u001b[39mNone\u001b[39;00m\n\u001b[0;32m   1746\u001b[0m f \u001b[39m=\u001b[39m \u001b[39mself\u001b[39m\u001b[39m.\u001b[39mhandles\u001b[39m.\u001b[39mhandle\n",
      "File \u001b[1;32m~\\AppData\\Roaming\\Python\\Python39\\site-packages\\pandas\\io\\common.py:856\u001b[0m, in \u001b[0;36mget_handle\u001b[1;34m(path_or_buf, mode, encoding, compression, memory_map, is_text, errors, storage_options)\u001b[0m\n\u001b[0;32m    851\u001b[0m \u001b[39melif\u001b[39;00m \u001b[39misinstance\u001b[39m(handle, \u001b[39mstr\u001b[39m):\n\u001b[0;32m    852\u001b[0m     \u001b[39m# Check whether the filename is to be opened in binary mode.\u001b[39;00m\n\u001b[0;32m    853\u001b[0m     \u001b[39m# Binary mode does not support 'encoding' and 'newline'.\u001b[39;00m\n\u001b[0;32m    854\u001b[0m     \u001b[39mif\u001b[39;00m ioargs\u001b[39m.\u001b[39mencoding \u001b[39mand\u001b[39;00m \u001b[39m\"\u001b[39m\u001b[39mb\u001b[39m\u001b[39m\"\u001b[39m \u001b[39mnot\u001b[39;00m \u001b[39min\u001b[39;00m ioargs\u001b[39m.\u001b[39mmode:\n\u001b[0;32m    855\u001b[0m         \u001b[39m# Encoding\u001b[39;00m\n\u001b[1;32m--> 856\u001b[0m         handle \u001b[39m=\u001b[39m \u001b[39mopen\u001b[39;49m(\n\u001b[0;32m    857\u001b[0m             handle,\n\u001b[0;32m    858\u001b[0m             ioargs\u001b[39m.\u001b[39;49mmode,\n\u001b[0;32m    859\u001b[0m             encoding\u001b[39m=\u001b[39;49mioargs\u001b[39m.\u001b[39;49mencoding,\n\u001b[0;32m    860\u001b[0m             errors\u001b[39m=\u001b[39;49merrors,\n\u001b[0;32m    861\u001b[0m             newline\u001b[39m=\u001b[39;49m\u001b[39m\"\u001b[39;49m\u001b[39m\"\u001b[39;49m,\n\u001b[0;32m    862\u001b[0m         )\n\u001b[0;32m    863\u001b[0m     \u001b[39melse\u001b[39;00m:\n\u001b[0;32m    864\u001b[0m         \u001b[39m# Binary mode\u001b[39;00m\n\u001b[0;32m    865\u001b[0m         handle \u001b[39m=\u001b[39m \u001b[39mopen\u001b[39m(handle, ioargs\u001b[39m.\u001b[39mmode)\n",
      "\u001b[1;31mFileNotFoundError\u001b[0m: [Errno 2] No such file or directory: '../honey.csv'"
     ]
    }
   ],
   "source": [
    "honeypot_result = pd.read_csv(\"../honey.csv\")"
   ]
  },
  {
   "cell_type": "code",
   "execution_count": 46,
   "metadata": {},
   "outputs": [],
   "source": [
    "# Preprocess the data\n",
    "def result_preprocess(honey_res):\n",
    "    categorical_columns = [col for col in honey_res.columns if honey_res[col].dtype == 'object']\n",
    "    for col in categorical_columns:\n",
    "        honey_res[col] = honey_res[col].astype('category').cat.codes\n",
    "    honey_res.to_csv(\"./realtime.csv\")\n",
    "    return honey_res.values\n",
    "\n",
    "honey_res = result_preprocess(honeypot_result)"
   ]
  },
  {
   "cell_type": "code",
   "execution_count": 15,
   "metadata": {},
   "outputs": [
    {
     "name": "stdout",
     "output_type": "stream",
     "text": [
      "1/1 [==============================] - 0s 80ms/step\n",
      "[[1.]]\n"
     ]
    }
   ],
   "source": [
    "# Custom input data GAN\n",
    "input_data = np.array([[0,35,0,0,3,722,2193,0,0,0,0,0,0,0,0,0,0,0,0,0,0,0,0,0,0,0,0,0,0]])\n",
    "# input_data = np.array([[0,1,1,2,722,2193,0,0.1,0.2,0.3,0.4,0.5,0.6,0.7,0.8,0.9,0.10,0.11,0.12,0.13,0.14,0.15,0.16,0.17,0.18,0.19,0.20,0.21,1242352]])\n",
    "# input_data = np.array([[0,0,0,0,0,0,0,0,0,0,0,0,0,0,0,0,0,0,0,0,0,0,0,0,0,0,0,0,0]])\n",
    "# Make a prediction using the model\n",
    "prediction_data = discriminator.predict(input_data)\n",
    "\n",
    "print(prediction_data)"
   ]
  }
 ],
 "metadata": {
  "kernelspec": {
   "display_name": "base",
   "language": "python",
   "name": "python3"
  },
  "language_info": {
   "codemirror_mode": {
    "name": "ipython",
    "version": 3
   },
   "file_extension": ".py",
   "mimetype": "text/x-python",
   "name": "python",
   "nbconvert_exporter": "python",
   "pygments_lexer": "ipython3",
   "version": "3.9.13"
  },
  "orig_nbformat": 4,
  "vscode": {
   "interpreter": {
    "hash": "727a28ee4c40c57140038d04f8464ce2838cdd9cbed412c77ad124b108b93625"
   }
  }
 },
 "nbformat": 4,
 "nbformat_minor": 2
}
