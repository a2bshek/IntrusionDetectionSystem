{
 "cells": [
  {
   "cell_type": "code",
   "execution_count": 1,
   "metadata": {},
   "outputs": [],
   "source": [
    "import numpy as np\n",
    "import pandas as pd\n",
    "import tensorflow as tf\n",
    "import matplotlib.pyplot as plt "
   ]
  },
  {
   "cell_type": "code",
   "execution_count": 2,
   "metadata": {},
   "outputs": [],
   "source": [
    "# Load the KDD99 dataset\n",
    "dataset = pd.read_csv('../dataset/kddcup.data.gz')"
   ]
  },
  {
   "cell_type": "code",
   "execution_count": 3,
   "metadata": {},
   "outputs": [],
   "source": [
    "# Preprocess the data\n",
    "def preprocess(df):\n",
    "    categorical_columns = [col for col in df.columns if df[col].dtype == 'object']\n",
    "    for col in categorical_columns:\n",
    "        df[col] = df[col].astype('category').cat.codes\n",
    "    # df.to_csv(\"../Preprocess/kddcup.data.csv\")\n",
    "    return df.values\n",
    "\n",
    "df = preprocess(dataset)"
   ]
  },
  {
   "cell_type": "code",
   "execution_count": 4,
   "metadata": {},
   "outputs": [],
   "source": [
    "# Split the data into training and test sets\n",
    "train_data = df[:int(len(df) * 0.9)]\n",
    "test_data = df[int(len(df) * 0.9):]"
   ]
  },
  {
   "cell_type": "code",
   "execution_count": 5,
   "metadata": {},
   "outputs": [],
   "source": [
    "# Define the generator model\n",
    "def make_generator_model():\n",
    "    model = tf.keras.Sequential()\n",
    "    model.add(tf.keras.layers.Dense(256, input_dim=100))\n",
    "    model.add(tf.keras.layers.LeakyReLU())\n",
    "    model.add(tf.keras.layers.BatchNormalization(momentum=0.8))\n",
    "    model.add(tf.keras.layers.Dense(512))\n",
    "    model.add(tf.keras.layers.LeakyReLU())\n",
    "    model.add(tf.keras.layers.BatchNormalization(momentum=0.8))\n",
    "    model.add(tf.keras.layers.Dense(1024))\n",
    "    model.add(tf.keras.layers.LeakyReLU())\n",
    "    model.add(tf.keras.layers.BatchNormalization(momentum=0.8))\n",
    "    model.add(tf.keras.layers.Dense(np.prod(train_data.shape[1:]), activation='tanh'))\n",
    "    model.add(tf.keras.layers.Reshape(target_shape=train_data.shape[1:]))\n",
    "    return model\n",
    "\n",
    "generator = make_generator_model()"
   ]
  },
  {
   "cell_type": "code",
   "execution_count": 6,
   "metadata": {},
   "outputs": [],
   "source": [
    "# Define the discriminator model\n",
    "def make_discriminator_model():\n",
    "    model = tf.keras.Sequential()\n",
    "    model.add(tf.keras.layers.Flatten(input_shape=train_data.shape[1:]))\n",
    "    model.add(tf.keras.layers.Dense(1024))\n",
    "    model.add(tf.keras.layers.LeakyReLU())\n",
    "    model.add(tf.keras.layers.Dense(512))\n",
    "    model.add(tf.keras.layers.LeakyReLU())\n",
    "    model.add(tf.keras.layers.Dense(256))\n",
    "    model.add(tf.keras.layers.LeakyReLU())\n",
    "    model.add(tf.keras.layers.Dense(1, activation='sigmoid'))\n",
    "    return model\n",
    "\n",
    "discriminator = make_discriminator_model()\n",
    "\n",
    "# Compile the discriminator\n",
    "discriminator.compile(loss='binary_crossentropy', optimizer=tf.keras.optimizers.Adam(0.0002, 0.5), metrics=['accuracy'])\n",
    "\n",
    "# Freeze the weights of the discriminator\n",
    "discriminator.trainable = False"
   ]
  },
  {
   "cell_type": "code",
   "execution_count": 7,
   "metadata": {},
   "outputs": [],
   "source": [
    "# Define the combined model for training the generator\n",
    "def make_gan(discriminator, generator):\n",
    "    model = tf.keras.Sequential()\n",
    "    model.add(generator)\n",
    "    model.add(discriminator)\n",
    "    return model\n",
    "\n",
    "gan = make_gan(discriminator, generator)\n",
    "\n",
    "# Compile the combined model\n",
    "gan.compile(loss='binary_crossentropy', optimizer=tf.keras.optimizers.Adam(0.0002, 0.5))"
   ]
  },
  {
   "cell_type": "code",
   "execution_count": 8,
   "metadata": {},
   "outputs": [
    {
     "name": "stdout",
     "output_type": "stream",
     "text": [
      "2/2 [==============================] - 4s 39ms/step\n",
      "Epoch: 1 [D loss: 32.436315, acc.: 44.53%] [G loss: 0.669200]\n",
      "2/2 [==============================] - 0s 8ms/step\n",
      "Epoch: 2 [D loss: 0.342751, acc.: 79.69%] [G loss: 0.646635]\n",
      "2/2 [==============================] - 0s 14ms/step\n",
      "Epoch: 3 [D loss: 0.347478, acc.: 76.56%] [G loss: 0.651280]\n",
      "2/2 [==============================] - 0s 34ms/step\n",
      "Epoch: 4 [D loss: 0.349846, acc.: 74.22%] [G loss: 0.649287]\n",
      "2/2 [==============================] - 0s 5ms/step\n",
      "Epoch: 5 [D loss: 0.356533, acc.: 69.53%] [G loss: 0.651844]\n",
      "2/2 [==============================] - 0s 5ms/step\n",
      "Epoch: 6 [D loss: 0.620911, acc.: 60.94%] [G loss: 0.628413]\n",
      "2/2 [==============================] - 0s 25ms/step\n",
      "Epoch: 7 [D loss: 0.371177, acc.: 64.84%] [G loss: 0.620440]\n",
      "2/2 [==============================] - 0s 5ms/step\n",
      "Epoch: 8 [D loss: 0.394555, acc.: 56.25%] [G loss: 0.627158]\n",
      "2/2 [==============================] - 0s 5ms/step\n",
      "Epoch: 9 [D loss: 0.377000, acc.: 62.50%] [G loss: 0.630907]\n",
      "2/2 [==============================] - 0s 13ms/step\n",
      "Epoch: 10 [D loss: 0.377262, acc.: 60.16%] [G loss: 0.631434]\n",
      "2/2 [==============================] - 0s 7ms/step\n",
      "Epoch: 11 [D loss: 0.372539, acc.: 61.72%] [G loss: 0.634766]\n",
      "2/2 [==============================] - 0s 16ms/step\n",
      "Epoch: 12 [D loss: 0.376317, acc.: 61.72%] [G loss: 0.648690]\n",
      "2/2 [==============================] - 0s 4ms/step\n",
      "Epoch: 13 [D loss: 0.374309, acc.: 63.28%] [G loss: 0.647155]\n",
      "2/2 [==============================] - 0s 14ms/step\n",
      "Epoch: 14 [D loss: 0.364015, acc.: 64.84%] [G loss: 0.656460]\n",
      "2/2 [==============================] - 0s 6ms/step\n",
      "Epoch: 15 [D loss: 0.367856, acc.: 66.41%] [G loss: 0.667634]\n",
      "2/2 [==============================] - 0s 9ms/step\n",
      "Epoch: 16 [D loss: 0.348690, acc.: 76.56%] [G loss: 0.678485]\n",
      "2/2 [==============================] - 0s 9ms/step\n",
      "Epoch: 17 [D loss: 0.350419, acc.: 73.44%] [G loss: 0.689568]\n",
      "2/2 [==============================] - 0s 6ms/step\n",
      "Epoch: 18 [D loss: 0.350610, acc.: 74.22%] [G loss: 0.698731]\n",
      "2/2 [==============================] - 0s 3ms/step\n",
      "Epoch: 19 [D loss: 0.354595, acc.: 72.66%] [G loss: 0.709723]\n",
      "2/2 [==============================] - 0s 6ms/step\n",
      "Epoch: 20 [D loss: 0.349454, acc.: 75.78%] [G loss: 0.712265]\n",
      "2/2 [==============================] - 0s 13ms/step\n",
      "Epoch: 21 [D loss: 0.335893, acc.: 80.47%] [G loss: 0.732717]\n",
      "2/2 [==============================] - 0s 7ms/step\n",
      "Epoch: 22 [D loss: 0.338205, acc.: 78.91%] [G loss: 0.742656]\n",
      "2/2 [==============================] - 0s 7ms/step\n",
      "Epoch: 23 [D loss: 0.330249, acc.: 88.28%] [G loss: 0.752325]\n",
      "2/2 [==============================] - 0s 6ms/step\n",
      "Epoch: 24 [D loss: 0.317256, acc.: 92.97%] [G loss: 0.768634]\n",
      "2/2 [==============================] - 0s 4ms/step\n",
      "Epoch: 25 [D loss: 0.310460, acc.: 95.31%] [G loss: 0.792506]\n",
      "2/2 [==============================] - 0s 6ms/step\n",
      "Epoch: 26 [D loss: 0.305086, acc.: 92.97%] [G loss: 0.790882]\n",
      "2/2 [==============================] - 0s 5ms/step\n",
      "Epoch: 27 [D loss: 0.298642, acc.: 94.53%] [G loss: 0.809476]\n",
      "2/2 [==============================] - 0s 7ms/step\n",
      "Epoch: 28 [D loss: 0.294644, acc.: 93.75%] [G loss: 0.816390]\n",
      "2/2 [==============================] - 0s 36ms/step\n",
      "Epoch: 29 [D loss: 0.296118, acc.: 96.88%] [G loss: 0.836742]\n",
      "2/2 [==============================] - 0s 9ms/step\n",
      "Epoch: 30 [D loss: 0.284971, acc.: 98.44%] [G loss: 0.849466]\n",
      "2/2 [==============================] - 0s 4ms/step\n",
      "Epoch: 31 [D loss: 0.278678, acc.: 98.44%] [G loss: 0.857564]\n",
      "2/2 [==============================] - 0s 5ms/step\n",
      "Epoch: 32 [D loss: 0.274449, acc.: 99.22%] [G loss: 0.872564]\n",
      "2/2 [==============================] - 0s 5ms/step\n",
      "Epoch: 33 [D loss: 0.264372, acc.: 100.00%] [G loss: 0.888349]\n",
      "2/2 [==============================] - 0s 32ms/step\n",
      "Epoch: 34 [D loss: 0.259976, acc.: 100.00%] [G loss: 0.898919]\n",
      "2/2 [==============================] - 0s 3ms/step\n",
      "Epoch: 35 [D loss: 0.266593, acc.: 100.00%] [G loss: 0.914852]\n",
      "2/2 [==============================] - 0s 22ms/step\n",
      "Epoch: 36 [D loss: 0.262523, acc.: 100.00%] [G loss: 0.931517]\n",
      "2/2 [==============================] - 0s 7ms/step\n",
      "Epoch: 37 [D loss: 0.247306, acc.: 100.00%] [G loss: 0.941363]\n",
      "2/2 [==============================] - 0s 4ms/step\n",
      "Epoch: 38 [D loss: 0.246773, acc.: 100.00%] [G loss: 0.948934]\n",
      "2/2 [==============================] - 0s 5ms/step\n",
      "Epoch: 39 [D loss: 0.247552, acc.: 100.00%] [G loss: 0.968171]\n",
      "2/2 [==============================] - 0s 6ms/step\n",
      "Epoch: 40 [D loss: 0.235854, acc.: 100.00%] [G loss: 0.983568]\n",
      "2/2 [==============================] - 0s 4ms/step\n",
      "Epoch: 41 [D loss: 0.236853, acc.: 100.00%] [G loss: 1.000157]\n",
      "2/2 [==============================] - 0s 9ms/step\n",
      "Epoch: 42 [D loss: 0.225455, acc.: 100.00%] [G loss: 1.006772]\n",
      "2/2 [==============================] - 0s 6ms/step\n",
      "Epoch: 43 [D loss: 0.226948, acc.: 100.00%] [G loss: 1.016685]\n",
      "2/2 [==============================] - 0s 6ms/step\n",
      "Epoch: 44 [D loss: 0.219772, acc.: 100.00%] [G loss: 1.035537]\n",
      "2/2 [==============================] - 0s 6ms/step\n",
      "Epoch: 45 [D loss: 0.219401, acc.: 100.00%] [G loss: 1.043911]\n",
      "2/2 [==============================] - 0s 5ms/step\n",
      "Epoch: 46 [D loss: 0.216674, acc.: 100.00%] [G loss: 1.066184]\n",
      "2/2 [==============================] - 0s 6ms/step\n",
      "Epoch: 47 [D loss: 0.218822, acc.: 100.00%] [G loss: 1.074087]\n",
      "2/2 [==============================] - 0s 4ms/step\n",
      "Epoch: 48 [D loss: 0.215180, acc.: 99.22%] [G loss: 1.079608]\n",
      "2/2 [==============================] - 0s 7ms/step\n",
      "Epoch: 49 [D loss: 0.205881, acc.: 100.00%] [G loss: 1.086540]\n",
      "2/2 [==============================] - 0s 7ms/step\n",
      "Epoch: 50 [D loss: 0.204841, acc.: 100.00%] [G loss: 1.119455]\n",
      "2/2 [==============================] - 0s 5ms/step\n",
      "Epoch: 51 [D loss: 0.204647, acc.: 100.00%] [G loss: 1.121189]\n",
      "2/2 [==============================] - 0s 4ms/step\n",
      "Epoch: 52 [D loss: 0.195119, acc.: 100.00%] [G loss: 1.139303]\n",
      "2/2 [==============================] - 0s 7ms/step\n",
      "Epoch: 53 [D loss: 0.198527, acc.: 100.00%] [G loss: 1.150005]\n",
      "2/2 [==============================] - 0s 3ms/step\n",
      "Epoch: 54 [D loss: 0.190541, acc.: 100.00%] [G loss: 1.158247]\n",
      "2/2 [==============================] - 0s 19ms/step\n",
      "Epoch: 55 [D loss: 0.185749, acc.: 100.00%] [G loss: 1.179122]\n",
      "2/2 [==============================] - 0s 6ms/step\n",
      "Epoch: 56 [D loss: 0.186109, acc.: 100.00%] [G loss: 1.173354]\n",
      "2/2 [==============================] - 0s 4ms/step\n",
      "Epoch: 57 [D loss: 0.178149, acc.: 100.00%] [G loss: 1.185014]\n",
      "2/2 [==============================] - 0s 5ms/step\n",
      "Epoch: 58 [D loss: 0.184841, acc.: 100.00%] [G loss: 1.211626]\n",
      "2/2 [==============================] - 0s 3ms/step\n",
      "Epoch: 59 [D loss: 0.178834, acc.: 100.00%] [G loss: 1.227192]\n",
      "2/2 [==============================] - 0s 6ms/step\n",
      "Epoch: 60 [D loss: 0.193140, acc.: 99.22%] [G loss: 1.227222]\n",
      "2/2 [==============================] - 0s 6ms/step\n",
      "Epoch: 61 [D loss: 0.173339, acc.: 100.00%] [G loss: 1.242772]\n",
      "2/2 [==============================] - 0s 3ms/step\n",
      "Epoch: 62 [D loss: 0.169588, acc.: 100.00%] [G loss: 1.261814]\n",
      "2/2 [==============================] - 0s 6ms/step\n",
      "Epoch: 63 [D loss: 0.170423, acc.: 100.00%] [G loss: 1.264164]\n",
      "2/2 [==============================] - 0s 5ms/step\n",
      "Epoch: 64 [D loss: 0.166637, acc.: 100.00%] [G loss: 1.278447]\n",
      "2/2 [==============================] - 0s 5ms/step\n",
      "Epoch: 65 [D loss: 0.168230, acc.: 100.00%] [G loss: 1.287679]\n",
      "2/2 [==============================] - 0s 3ms/step\n",
      "Epoch: 66 [D loss: 0.163804, acc.: 100.00%] [G loss: 1.302491]\n",
      "2/2 [==============================] - 0s 5ms/step\n",
      "Epoch: 67 [D loss: 0.161957, acc.: 100.00%] [G loss: 1.318497]\n",
      "2/2 [==============================] - 0s 5ms/step\n",
      "Epoch: 68 [D loss: 0.154211, acc.: 100.00%] [G loss: 1.324084]\n",
      "2/2 [==============================] - 0s 6ms/step\n",
      "Epoch: 69 [D loss: 0.152099, acc.: 100.00%] [G loss: 1.341824]\n",
      "2/2 [==============================] - 0s 3ms/step\n",
      "Epoch: 70 [D loss: 0.149594, acc.: 100.00%] [G loss: 1.349572]\n",
      "2/2 [==============================] - 0s 6ms/step\n",
      "Epoch: 71 [D loss: 0.146393, acc.: 100.00%] [G loss: 1.370996]\n",
      "2/2 [==============================] - 0s 5ms/step\n",
      "Epoch: 72 [D loss: 0.147285, acc.: 100.00%] [G loss: 1.388179]\n",
      "2/2 [==============================] - 0s 6ms/step\n",
      "Epoch: 73 [D loss: 0.164953, acc.: 99.22%] [G loss: 1.380812]\n",
      "2/2 [==============================] - 0s 5ms/step\n",
      "Epoch: 74 [D loss: 0.154096, acc.: 100.00%] [G loss: 1.393046]\n",
      "2/2 [==============================] - 0s 7ms/step\n",
      "Epoch: 75 [D loss: 0.148111, acc.: 100.00%] [G loss: 1.403299]\n",
      "2/2 [==============================] - 0s 4ms/step\n",
      "Epoch: 76 [D loss: 0.145785, acc.: 100.00%] [G loss: 1.412270]\n",
      "2/2 [==============================] - 0s 6ms/step\n",
      "Epoch: 77 [D loss: 0.139887, acc.: 100.00%] [G loss: 1.420033]\n",
      "2/2 [==============================] - 0s 6ms/step\n",
      "Epoch: 78 [D loss: 0.139037, acc.: 100.00%] [G loss: 1.442925]\n",
      "2/2 [==============================] - 0s 4ms/step\n",
      "Epoch: 79 [D loss: 0.135407, acc.: 100.00%] [G loss: 1.453065]\n",
      "2/2 [==============================] - 0s 5ms/step\n",
      "Epoch: 80 [D loss: 0.130302, acc.: 100.00%] [G loss: 1.456828]\n",
      "2/2 [==============================] - 0s 5ms/step\n",
      "Epoch: 81 [D loss: 0.138094, acc.: 100.00%] [G loss: 1.476095]\n",
      "2/2 [==============================] - 0s 17ms/step\n",
      "Epoch: 82 [D loss: 0.129284, acc.: 100.00%] [G loss: 1.469943]\n",
      "2/2 [==============================] - 0s 7ms/step\n",
      "Epoch: 83 [D loss: 0.132721, acc.: 100.00%] [G loss: 1.490561]\n",
      "2/2 [==============================] - 0s 7ms/step\n",
      "Epoch: 84 [D loss: 0.129216, acc.: 100.00%] [G loss: 1.504266]\n",
      "2/2 [==============================] - 0s 7ms/step\n",
      "Epoch: 85 [D loss: 0.126668, acc.: 100.00%] [G loss: 1.519914]\n",
      "2/2 [==============================] - 0s 20ms/step\n",
      "Epoch: 86 [D loss: 0.126304, acc.: 100.00%] [G loss: 1.512843]\n",
      "2/2 [==============================] - 0s 6ms/step\n",
      "Epoch: 87 [D loss: 0.127007, acc.: 100.00%] [G loss: 1.539545]\n",
      "2/2 [==============================] - 0s 2ms/step\n",
      "Epoch: 88 [D loss: 0.124534, acc.: 100.00%] [G loss: 1.550365]\n",
      "2/2 [==============================] - 0s 6ms/step\n",
      "Epoch: 89 [D loss: 0.123394, acc.: 100.00%] [G loss: 1.538732]\n",
      "2/2 [==============================] - 0s 6ms/step\n",
      "Epoch: 90 [D loss: 0.127271, acc.: 100.00%] [G loss: 1.563022]\n",
      "2/2 [==============================] - 0s 3ms/step\n",
      "Epoch: 91 [D loss: 0.134217, acc.: 99.22%] [G loss: 1.553081]\n",
      "2/2 [==============================] - 0s 5ms/step\n",
      "Epoch: 92 [D loss: 0.116742, acc.: 100.00%] [G loss: 1.557908]\n",
      "2/2 [==============================] - 0s 6ms/step\n",
      "Epoch: 93 [D loss: 0.122149, acc.: 100.00%] [G loss: 1.563657]\n",
      "2/2 [==============================] - 0s 12ms/step\n",
      "Epoch: 94 [D loss: 0.118541, acc.: 100.00%] [G loss: 1.582924]\n",
      "2/2 [==============================] - 0s 3ms/step\n",
      "Epoch: 95 [D loss: 0.111533, acc.: 100.00%] [G loss: 1.602271]\n",
      "2/2 [==============================] - 0s 7ms/step\n",
      "Epoch: 96 [D loss: 0.115871, acc.: 100.00%] [G loss: 1.619100]\n",
      "2/2 [==============================] - 0s 7ms/step\n",
      "Epoch: 97 [D loss: 0.112183, acc.: 100.00%] [G loss: 1.622433]\n",
      "2/2 [==============================] - 0s 3ms/step\n",
      "Epoch: 98 [D loss: 0.115956, acc.: 100.00%] [G loss: 1.653242]\n",
      "2/2 [==============================] - 0s 9ms/step\n",
      "Epoch: 99 [D loss: 0.103969, acc.: 100.00%] [G loss: 1.651233]\n",
      "2/2 [==============================] - 0s 7ms/step\n",
      "Epoch: 100 [D loss: 0.113376, acc.: 100.00%] [G loss: 1.655755]\n"
     ]
    }
   ],
   "source": [
    "# Train the GAN\n",
    "def train(gan, discriminator, generator, train_data, batch_size=128, epochs=100):\n",
    "    half_batch = int(batch_size / 2)\n",
    "    for epoch in range(epochs):\n",
    "        # Train the discriminator\n",
    "        idx = np.random.randint(0, train_data.shape[0], half_batch)\n",
    "        real_data = train_data[idx]\n",
    "        noise = np.random.normal(0, 1, (half_batch, 100))\n",
    "        fake_data = generator.predict(noise)\n",
    "        real_labels = np.ones((half_batch, 1))\n",
    "        fake_labels = np.zeros((half_batch, 1))\n",
    "        d_loss_real = discriminator.train_on_batch(real_data, real_labels)\n",
    "        d_loss_fake = discriminator.train_on_batch(fake_data, fake_labels)\n",
    "        d_loss = 0.5 * np.add(d_loss_real, d_loss_fake)\n",
    "\n",
    "        # Train the generator\n",
    "        noise = np.random.normal(0, 1, (batch_size, 100))\n",
    "        fake_labels = np.ones((batch_size, 1))\n",
    "        g_loss = gan.train_on_batch(noise, fake_labels)\n",
    "\n",
    "        # Print progress\n",
    "        print(\"Epoch: %d [D loss: %f, acc.: %.2f%%] [G loss: %f]\" % (epoch + 1, d_loss[0], 100 * d_loss[1], g_loss))\n",
    "\n",
    "train(gan, discriminator, generator, train_data, epochs=100)"
   ]
  },
  {
   "cell_type": "code",
   "execution_count": 9,
   "metadata": {},
   "outputs": [
    {
     "name": "stdout",
     "output_type": "stream",
     "text": [
      "4/4 [==============================] - 0s 4ms/step\n"
     ]
    }
   ],
   "source": [
    "# Generate new data\n",
    "noise = np.random.normal(0, 1, (100, 100))\n",
    "generated_data = generator.predict(noise)"
   ]
  },
  {
   "cell_type": "code",
   "execution_count": 10,
   "metadata": {},
   "outputs": [
    {
     "data": {
      "image/png": "[encoded data removed]",
      "text/plain": [
       "<Figure size 640x480 with 1 Axes>"
      ]
     },
     "metadata": {},
     "output_type": "display_data"
    }
   ],
   "source": [
    "# Plot the generated data\n",
    "plt.scatter(generated_data[:, 0], generated_data[:, 1], c=np.argmax(generated_data[:, 2:], axis=1))\n",
    "plt.show()"
   ]
  },
  {
   "cell_type": "code",
   "execution_count": 11,
   "metadata": {},
   "outputs": [],
   "source": [
    "# Save the discriminator model\n",
    "discriminator.compile(loss='binary_crossentropy', optimizer=tf.keras.optimizers.Adam(0.0002, 0.5))\n",
    "discriminator.save('../ML/GAN/discriminator.h5')\n",
    "\n",
    "# Save the generator model\n",
    "generator.compile(optimizer='adam', loss='binary_crossentropy', metrics=['accuracy'])\n",
    "generator.save('../ML/GAN/generator.h5')\n",
    "\n",
    "# Save the combined model\n",
    "gan.compile(loss='binary_crossentropy', optimizer=tf.keras.optimizers.Adam(0.0002, 0.5))\n",
    "gan.save('../ML/GAN/gan.h5')"
   ]
  },
  {
   "cell_type": "code",
   "execution_count": 12,
   "metadata": {},
   "outputs": [],
   "source": [
    "# Load the discriminator model\n",
    "loaded_discriminator = tf.keras.models.load_model('../ML/GAN/discriminator.h5')\n",
    "\n",
    "# Load the generator model\n",
    "loaded_generator = tf.keras.models.load_model('../ML/GAN/generator.h5')\n",
    "\n",
    "# Load the combined model\n",
    "loaded_gan = tf.keras.models.load_model('../ML/GAN/gan.h5')"
   ]
  },
  {
   "cell_type": "code",
   "execution_count": 25,
   "metadata": {},
   "outputs": [
    {
     "name": "stdout",
     "output_type": "stream",
     "text": [
      "32/32 [==============================] - 0s 14ms/step\n"
     ]
    }
   ],
   "source": [
    "# Generate a set of images using random noise vectors\n",
    "num_images = 1000\n",
    "noise = np.random.normal(0, 1, size=(num_images, 100))\n",
    "generated_images = loaded_generator.predict(noise)\n",
    "\n",
    "# Convert the images to grayscale and flatten them into 1-dimensional arrays\n",
    "grayscale_images = np.mean(generated_images, axis=1)\n",
    "flattened_images = grayscale_images.reshape(num_images, -1)\n",
    "\n",
    "# Save the flattened images as a CSV file\n",
    "gen_df = pd.DataFrame(flattened_images)\n",
    "gen_df.to_csv('generated_images.csv', index=False, header=False)\n"
   ]
  },
  {
   "cell_type": "code",
   "execution_count": 29,
   "metadata": {},
   "outputs": [
    {
     "name": "stdout",
     "output_type": "stream",
     "text": [
      "3125/3125 [==============================] - 16s 5ms/step\n"
     ]
    },
    {
     "data": {
      "image/png": "[encoded data removed]",
      "text/plain": [
       "<Figure size 1000x1000 with 1 Axes>"
      ]
     },
     "metadata": {},
     "output_type": "display_data"
    }
   ],
   "source": [
    "# Generate a set of 100000 images using random noise vectors\n",
    "num_images = 100000\n",
    "noise = np.random.normal(0, 1, size=(num_images, 100))\n",
    "generated_images = loaded_generator.predict(noise)\n",
    "\n",
    "# Reshape the images into a 10x10 grid\n",
    "grid_size = 10\n",
    "grid = np.zeros((grid_size*28, grid_size*28))\n",
    "for i in range(grid_size):\n",
    "    for j in range(grid_size):\n",
    "        img = generated_images[i*grid_size+j, 0]\n",
    "        grid[i*28:(i+1)*28, j*28:(j+1)*28] = img\n",
    "\n",
    "# Plot the grid of images\n",
    "fig, ax = plt.subplots(figsize=(10, 10))\n",
    "ax.imshow(grid, cmap='gray')\n",
    "ax.axis('off')\n",
    "ax.set_title('Generated Images')\n",
    "plt.show()\n"
   ]
  },
  {
   "cell_type": "code",
   "execution_count": 13,
   "metadata": {},
   "outputs": [],
   "source": [
    "# Tensorflow Warning Fix\n",
    "@tf.function(input_signature=(tf.TensorSpec(shape=[None], dtype=tf.int32),))\n",
    "def next_collatz(x):\n",
    "    print(\"Tracing with\", x)\n",
    "    return tf.where(x % 2 == 0, x // 2, 3 * x + 1)"
   ]
  },
  {
   "cell_type": "code",
   "execution_count": 14,
   "metadata": {},
   "outputs": [
    {
     "name": "stdout",
     "output_type": "stream",
     "text": [
      "1/1 [==============================] - 0s 176ms/step\n",
      "[[1.]]\n"
     ]
    }
   ],
   "source": [
    "# Custom input data\n",
    "input_data = np.array([[0,1,24,9,206,1491,0,0,0,0,0,1,0,0,0,0,0,0,0,0,0,0,17,20,0.0,0.0,0.0,0.0,1.0,0.0,0.1,0,255,1.0,0.0,0.0,0.0,0.0,0.0,0.0,0.0,11]])\n",
    "# input_data = np.array([[0,0,0,0,0,0,0,0,0,0,0,0,0,0,0,0,0,0,0,0,0,0,0,0,0,0,0,0,0,0,0,0,0,0,0,0,0,0,0,0,2]])\n",
    "\n",
    "# Make a prediction using the model\n",
    "prediction_data = discriminator.predict(input_data)\n",
    "\n",
    "print(prediction_data)"
   ]
  }
 ],
 "metadata": {
  "kernelspec": {
   "display_name": "base",
   "language": "python",
   "name": "python3"
  },
  "language_info": {
   "codemirror_mode": {
    "name": "ipython",
    "version": 3
   },
   "file_extension": ".py",
   "mimetype": "text/x-python",
   "name": "python",
   "nbconvert_exporter": "python",
   "pygments_lexer": "ipython3",
   "version": "3.9.13"
  },
  "orig_nbformat": 4,
  "vscode": {
   "interpreter": {
    "hash": "727a28ee4c40c57140038d04f8464ce2838cdd9cbed412c77ad124b108b93625"
   }
  }
 },
 "nbformat": 4,
 "nbformat_minor": 2
}
