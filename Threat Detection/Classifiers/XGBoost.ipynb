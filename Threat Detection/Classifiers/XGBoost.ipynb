{
 "cells": [
  {
   "cell_type": "code",
   "execution_count": 1,
   "metadata": {},
   "outputs": [],
   "source": [
    "import time\n",
    "import pickle\n",
    "import pandas as pd\n",
    "from sklearn.model_selection import train_test_split\n",
    "from xgboost import XGBClassifier\n",
    "from xgboost import plot_importance \n",
    "from sklearn.metrics import accuracy_score"
   ]
  },
  {
   "cell_type": "code",
   "execution_count": 2,
   "metadata": {},
   "outputs": [
    {
     "name": "stdout",
     "output_type": "stream",
     "text": [
      "Accuracy:  1.0\n",
      "Training time:  2.729997396469116\n"
     ]
    }
   ],
   "source": [
    "# Load the KDD99 dataset into a pandas dataframe\n",
    "df = pd.read_csv('../Preprocess/finalInt.csv')\n",
    "\n",
    "# Split the data into features (X) and target (y)\n",
    "X = df.iloc[:, :-1].values\n",
    "y = df.iloc[:, -1].values\n",
    "\n",
    "# Split the data into training and testing sets\n",
    "X_train, X_test, y_train, y_test = train_test_split(X, y, test_size=0.2, random_state=42)\n",
    "\n",
    "# XGBoost Classification model\n",
    "XGBoost = XGBClassifier(learning_rate=0.4,max_depth=7)\n",
    "\n",
    "start_time = time.time()\n",
    "XGBoost.fit(X_train, y_train)\n",
    "end_time = time.time()\n",
    "\n",
    "Train_Time = end_time - start_time\n",
    "\n",
    "y_pred = XGBoost.predict(X_train)\n",
    "Accuracy = accuracy_score(y_train,y_pred)\n",
    "\n",
    "# Evaluate the accuracy of the classifier\n",
    "print(\"Accuracy: \", Accuracy)\n",
    "print(\"Training time: \",Train_Time)"
   ]
  },
  {
   "cell_type": "code",
   "execution_count": 3,
   "metadata": {},
   "outputs": [],
   "source": [
    "pickle.dump(XGBoost, open(\"../ML/XGBoost.pkl\", \"wb\"))"
   ]
  }
 ],
 "metadata": {
  "kernelspec": {
   "display_name": "base",
   "language": "python",
   "name": "python3"
  },
  "language_info": {
   "codemirror_mode": {
    "name": "ipython",
    "version": 3
   },
   "file_extension": ".py",
   "mimetype": "text/x-python",
   "name": "python",
   "nbconvert_exporter": "python",
   "pygments_lexer": "ipython3",
   "version": "3.9.13"
  },
  "orig_nbformat": 4,
  "vscode": {
   "interpreter": {
    "hash": "727a28ee4c40c57140038d04f8464ce2838cdd9cbed412c77ad124b108b93625"
   }
  }
 },
 "nbformat": 4,
 "nbformat_minor": 2
}
